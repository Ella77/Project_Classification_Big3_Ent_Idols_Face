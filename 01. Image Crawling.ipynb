{
 "cells": [
  {
   "cell_type": "markdown",
   "metadata": {},
   "source": [
    "# 01. Image Crawling: 아이돌 사진 크롤링하기"
   ]
  },
  {
   "cell_type": "markdown",
   "metadata": {},
   "source": [
    "selenium을 사용해서 구글에서 이미지를 검색해서 이미지 파일을 저장하는 크롤링을 직접 구현할 수도 있지만, 이미 동일한 기능을 구현한 라이브러리가 공개되어 있으므로, google_images_download를 이용해 아이돌 가수들의 구글 이미지 검색결과를 크롤링한다."
   ]
  },
  {
   "cell_type": "markdown",
   "metadata": {},
   "source": [
    "참고: [google images download github repository](https://github.com/hardikvasa/google-images-download)"
   ]
  },
  {
   "cell_type": "code",
   "execution_count": 45,
   "metadata": {},
   "outputs": [
    {
     "name": "stdout",
     "output_type": "stream",
     "text": [
      "Requirement already satisfied: tqdm in /home/ubuntu/anaconda3/lib/python3.6/site-packages (4.36.1)\n",
      "Requirement already satisfied: google_images_download in /home/ubuntu/anaconda3/lib/python3.6/site-packages (2.8.0)\n",
      "Requirement already satisfied: selenium in /home/ubuntu/anaconda3/lib/python3.6/site-packages (from google_images_download) (3.141.0)\n",
      "Requirement already satisfied: urllib3 in /home/ubuntu/anaconda3/lib/python3.6/site-packages (from selenium->google_images_download) (1.22)\n"
     ]
    }
   ],
   "source": [
    "!pip install tqdm google_images_download\n",
    "from tqdm import tqdm\n",
    "from google_images_download import google_images_download"
   ]
  },
  {
   "cell_type": "markdown",
   "metadata": {},
   "source": [
    "## 1. 기획사별 아이돌 멤버 이름 list 만들기"
   ]
  },
  {
   "cell_type": "markdown",
   "metadata": {},
   "source": [
    "소속사별 남/녀 아이돌 멤버 이름 리스트로 받기"
   ]
  },
  {
   "cell_type": "code",
   "execution_count": 46,
   "metadata": {},
   "outputs": [],
   "source": [
    "import pandas as pd\n",
    "def get_idol_list(company, gender):\n",
    "    df = pd.read_csv(\"{}.csv\".format(company), encoding='utf-8')\n",
    "    names = df[df[\"성별\"]==gender][\"멤버\"].tolist()\n",
    "    names = [x.split(',') for x in names]\n",
    "    names = [item for sublist in names for item in sublist]\n",
    "    names = [x.strip() for x in names]\n",
    "    print(\"{} 소속 {}자 가수: {}명\".format(company.upper(), gender, len(names)))\n",
    "    return names"
   ]
  },
  {
   "cell_type": "code",
   "execution_count": 49,
   "metadata": {},
   "outputs": [
    {
     "data": {
      "text/html": [
       "<div>\n",
       "<style scoped>\n",
       "    .dataframe tbody tr th:only-of-type {\n",
       "        vertical-align: middle;\n",
       "    }\n",
       "\n",
       "    .dataframe tbody tr th {\n",
       "        vertical-align: top;\n",
       "    }\n",
       "\n",
       "    .dataframe thead th {\n",
       "        text-align: right;\n",
       "    }\n",
       "</style>\n",
       "<table border=\"1\" class=\"dataframe\">\n",
       "  <thead>\n",
       "    <tr style=\"text-align: right;\">\n",
       "      <th></th>\n",
       "      <th>멤버</th>\n",
       "      <th>성별</th>\n",
       "    </tr>\n",
       "  </thead>\n",
       "  <tbody>\n",
       "    <tr>\n",
       "      <th>0</th>\n",
       "      <td>BTS V</td>\n",
       "      <td>남</td>\n",
       "    </tr>\n",
       "    <tr>\n",
       "      <th>1</th>\n",
       "      <td>BTS Jeongguk</td>\n",
       "      <td>남</td>\n",
       "    </tr>\n",
       "    <tr>\n",
       "      <th>2</th>\n",
       "      <td>Bigbang TOP</td>\n",
       "      <td>남</td>\n",
       "    </tr>\n",
       "  </tbody>\n",
       "</table>\n",
       "</div>"
      ],
      "text/plain": [
       "             멤버 성별\n",
       "0         BTS V  남\n",
       "1  BTS Jeongguk  남\n",
       "2   Bigbang TOP  남"
      ]
     },
     "execution_count": 49,
     "metadata": {},
     "output_type": "execute_result"
    }
   ],
   "source": [
    "sm = pd.read_csv(\"sm.csv\", encoding='utf-8')\n",
    "sm\n"
   ]
  },
  {
   "cell_type": "markdown",
   "metadata": {},
   "source": [
    "### 1.1 SM"
   ]
  },
  {
   "cell_type": "code",
   "execution_count": 50,
   "metadata": {},
   "outputs": [
    {
     "name": "stdout",
     "output_type": "stream",
     "text": [
      "SM 소속 남자 가수: 3명\n"
     ]
    }
   ],
   "source": [
    "sm_m_names = get_idol_list('sm', '남')"
   ]
  },
  {
   "cell_type": "code",
   "execution_count": null,
   "metadata": {},
   "outputs": [],
   "source": [
    "sm_w_names = get_idol_list('sm', '여')"
   ]
  },
  {
   "cell_type": "markdown",
   "metadata": {},
   "source": [
    "### 1.2 JYP"
   ]
  },
  {
   "cell_type": "code",
   "execution_count": null,
   "metadata": {},
   "outputs": [],
   "source": [
    "jyp = pd.read_csv(\"jyp.csv\", encoding='euc_kr')\n",
    "jyp"
   ]
  },
  {
   "cell_type": "code",
   "execution_count": null,
   "metadata": {},
   "outputs": [],
   "source": [
    "jyp_m_names = get_idol_list('jyp', '남')"
   ]
  },
  {
   "cell_type": "code",
   "execution_count": null,
   "metadata": {},
   "outputs": [],
   "source": [
    "jyp_w_names = get_idol_list('jyp', '여')"
   ]
  },
  {
   "cell_type": "markdown",
   "metadata": {},
   "source": [
    "### 1.3 YG"
   ]
  },
  {
   "cell_type": "code",
   "execution_count": null,
   "metadata": {},
   "outputs": [],
   "source": [
    "yg = pd.read_csv(\"yg.csv\", encoding='euc_kr')\n",
    "yg"
   ]
  },
  {
   "cell_type": "code",
   "execution_count": null,
   "metadata": {},
   "outputs": [],
   "source": [
    "yg_m_names = get_idol_list('yg', '남')"
   ]
  },
  {
   "cell_type": "code",
   "execution_count": null,
   "metadata": {},
   "outputs": [],
   "source": [
    "yg_w_names = get_idol_list('yg', '여')"
   ]
  },
  {
   "cell_type": "markdown",
   "metadata": {},
   "source": [
    "## 2. 소속사별 아이돌 멤버 사진 크롤링"
   ]
  },
  {
   "cell_type": "markdown",
   "metadata": {},
   "source": [
    "구글 이미지 검색 결과 100개씩 다운로드 받기"
   ]
  },
  {
   "cell_type": "code",
   "execution_count": 53,
   "metadata": {},
   "outputs": [],
   "source": [
    "#-*- coding:utf-8 -*-\n",
    "#!export PYTHONIOENCODING=UTF-8\n",
    "\n",
    "#!pip install unidecode\n",
    "\n",
    "def transliterate(string):\n",
    "    \"\"\"Transliterates string into his closest representation.\n",
    "    Ex: 1. àé => ae,\n",
    "        2. สวัสดีครับ => swasdiikhrab.\n",
    "    :param string: string\n",
    "    :return: closest string.\n",
    "    \"\"\"\n",
    "    from unidecode import unidecode\n",
    "\n",
    "    if not isinstance(string, bytes):\n",
    "        string = u''.join(string)\n",
    "\n",
    "    return unidecode(string)\n",
    "\n",
    "def get_images(names):\n",
    "    for name in tqdm(names):\n",
    "        response = google_images_download.googleimagesdownload()\n",
    "        real_name = transliterate(name)\n",
    "        arguments = {\"keywords\":real_name,\"limit\":100,\"print_urls\":False}   \n",
    "        paths = response.download(arguments)"
   ]
  },
  {
   "cell_type": "markdown",
   "metadata": {},
   "source": [
    "### 2.1 SM 소속 아이돌 사진 크롤링"
   ]
  },
  {
   "cell_type": "code",
   "execution_count": 54,
   "metadata": {},
   "outputs": [
    {
     "name": "stderr",
     "output_type": "stream",
     "text": [
      "\n",
      "  0%|          | 0/3 [00:00<?, ?it/s]\u001b[A"
     ]
    },
    {
     "name": "stdout",
     "output_type": "stream",
     "text": [
      "\n",
      "Item no.: 1 --> Item name = BTS V\n",
      "Evaluating...\n",
      "Starting Download...\n",
      "Completed Image ====> 1.MV5BMjUyZGRlZGUtMjU1OC00NjJjLTk0MWQtN2RjZTYzYzgxZjVhXkEyXkFqcGdeQXVyMzM4MjM0Nzg@._V1_.jpg\n",
      "Completed Image ====> 2.190417_V_at_the_Map_of_the_Soul_Persona_press_conference.jpg\n",
      "Completed Image ====> 3.maxresdefault.jpg\n",
      "Invalid or missing image format. Skipping...\n",
      "Completed Image ====> 4.71IvZBWxh-L._SY606_.jpg\n",
      "Completed Image ====> 5.70613ea3a3e8d5a71241540fb9ba10ea.jpg\n",
      "Invalid or missing image format. Skipping...\n",
      "Invalid or missing image format. Skipping...\n",
      "Completed Image ====> 6.bts-v.jpg\n",
      "Completed Image ====> 7.13443470_f520.jpg\n",
      "Invalid or missing image format. Skipping...\n",
      "Invalid or missing image format. Skipping...\n",
      "Completed Image ====> 8.1567511126-edhvuf9uuaajhc3.jpg\n",
      "Completed Image ====> 9.people-are-defending-v-of-bts-after-the-idol-pretended-to-take-videos-of-his-fans-at-the-airport-photo-by-kpop-news-youtube.jpg\n",
      "Completed Image ====> 10.bts-v-pants-cover.jpg\n",
      "Invalid or missing image format. Skipping...\n",
      "Completed Image ====> 11.btsvidol.jpg\n",
      "Completed Image ====> 12.EB-nB3FUIAApyd1.jpg\n",
      "Completed Image ====> 13.BTS-V.jpg\n",
      "Completed Image ====> 14.5f8b3d2178e14ebebcfa1d26253ce5fc.jpeg\n",
      "Completed Image ====> 15.f8ab4d28db1afdaf3ca794f38d61aee7.jpg\n",
      "Completed Image ====> 16.BTS-V-1549175068793_16a4a157dee_large.jpg\n",
      "Completed Image ====> 17.19a475f1-9f74-4241-bf98-0869b9944432.jpg\n",
      "URLError on an image...trying next one... Error: HTTP Error 404: Not Found\n",
      "Completed Image ====> 18.D5dhPIUW0AU4NSE.jpg\n",
      "Completed Image ====> 19.v_paint_1567072866.jpg\n",
      "Invalid or missing image format. Skipping...\n",
      "Completed Image ====> 20.8671eece-4e75-4578-9c7f-21fc04659796-v.png\n",
      "Completed Image ====> 21.sei_23670039-eaf9-e1533035305169.jpg\n",
      "Completed Image ====> 22.tout.jpg\n",
      "Completed Image ====> 23.BTSV1-e1539248488668.jpg\n",
      "Completed Image ====> 24.Taehyung-v-bts-41539135-1280-1920.jpg\n",
      "Completed Image ====> 25.V_headband_white_e1745d2e-fd64-4b96-8764-72a4731582c0_grande.jpg\n",
      "Completed Image ====> 26.1561112616_217993_1561115098_noticia_normal.jpg\n",
      "Completed Image ====> 27.153081790-352-k227946.jpg\n",
      "Completed Image ====> 28.653fc08f2c71ea22c62db873e5031e31.jpg\n",
      "Completed Image ====> 29.BTS-V-1-6.jpg\n",
      "Completed Image ====> 30.bts-v-taehyung-checkered-headband-gotamochi-btsmerch-kawaiiclothes-4662315516017_2000x.jpg\n",
      "Completed Image ====> 31.0000046083-001-20180621083034902-9a65ba4dba803a802d1e03edd52172bd_600x400.jpeg\n",
      "Invalid or missing image format. Skipping...\n",
      "Completed Image ====> 32.bts-v.jpg\n",
      "Completed Image ====> 33.maxresdefault.jpg\n",
      "Completed Image ====> 34.1567103030-img-20190827-192706.jpg\n",
      "Completed Image ====> 35.tumblr_psrbtoPnep1vcgytk_1280.jpg\n",
      "Completed Image ====> 36.olsbtsvjkw001a_1566885795.jpg\n",
      "Completed Image ====> 37.8251f914465a1f866516cca47a898e6e9688575cr1-646-571v2_uhq.jpg\n",
      "Completed Image ====> 38.BTS-member-V-starts-speaking-English.jpg\n",
      "Completed Image ====> 39.bts-v-13.jpg\n",
      "Completed Image ====> 40.V_for_Dispatch_%22Boy_With_Luv%22_MV_behind_the_scene_shooting%2C_15_March_2019_04.jpg\n",
      "Completed Image ====> 41.4e9cdb29c39ea7e055d32b76616cf2e8.jpg\n",
      "Completed Image ====> 42.bts-v.jpg\n",
      "Completed Image ====> 43.c4abe346-d52e-4228-b172-84dd22c1fabe-bts-v.jpg\n",
      "Completed Image ====> 44.5fdd1b64-35be-11e9-b09f-892c410303c7_image_hires_125923.JPG\n",
      "Completed Image ====> 45.BTS-V-Yeontan.jpg\n",
      "Completed Image ====> 46.ecef21cb-bd18-4301-8e3c-05a398b3e03f.jpg\n",
      "Invalid or missing image format. Skipping...\n",
      "Completed Image ====> 47.BTSV3-e1539248535704.jpg\n",
      "Completed Image ====> 48.ST_20171230_JB30KIM_3656036.jpg\n",
      "Completed Image ====> 49.upload_1547915819594.jpg\n",
      "Completed Image ====> 50.V-BTS-1600x768.jpg\n",
      "Invalid or missing image format. Skipping...\n",
      "Completed Image ====> 51.bangtan05-1.jpg\n",
      "Completed Image ====> 52.image.jpg\n",
      "Completed Image ====> 53.unnamed-25.jpg\n",
      "Completed Image ====> 54.Kpop-BTS-V-Spring-autumn-warm-Black-white-long-sleeves-women-hoodies-korean-cotton-Harajuku-hooded-416x416.jpg\n",
      "Completed Image ====> 55.v-bts.jpg\n",
      "Completed Image ====> 56.5854477d53574f9da5ab411f6aa5603d.jpeg\n",
      "Completed Image ====> 57.V-2-534x800.jpg\n",
      "Completed Image ====> 58.v_header_720x.jpg\n",
      "Completed Image ====> 59.90044_95099_159.jpg\n",
      "Completed Image ====> 60.1-Kim-Taehyung-b.jpg\n",
      "Completed Image ====> 61.811-5cv6NAL._SY679_.jpg\n",
      "Invalid or missing image format. Skipping...\n",
      "Completed Image ====> 62.ALLKPOPER-KPOP-BTS-V-Jackets-Love-yourself-Windbreaker-Bangtan-Boys-Coat-Winter-Comfort_73fca6bb-bb87-4571-8070-c7810766f5c9.jpg\n",
      "Completed Image ====> 63.BTS-V-like-father-like-son-2.jpg\n",
      "Completed Image ====> 64.bts-v-taehyung-pierced-cap-white-gotamochi-btsmerch-kawaiiclothes-5414724730993_400x.jpg\n",
      "Completed Image ====> 65.00-story-v.jpg\n",
      "Completed Image ====> 66.jxamppMFmnTWUvK-800x450-noPad.jpg\n",
      "Completed Image ====> 67.CMS_1450_.jpeg\n",
      "Completed Image ====> 68.large.jpg\n",
      "Completed Image ====> 69.b4e9b0b068af78adf71b6bbe25a016c611240d35r1-1244-1315v2_hq.jpg\n",
      "Completed Image ====> 70.190812-15.jpg\n",
      "Completed Image ====> 71.400b1deb13bc5970394ac3858c4d4397.jpg\n",
      "Invalid or missing image format. Skipping...\n",
      "Completed Image ====> 72.BTS-V-weverse.jpg\n",
      "Completed Image ====> 73.bts-v.jpg\n",
      "Completed Image ====> 74.tumblr_psrbtn2UgE1vcgytk_640.jpg\n",
      "Completed Image ====> 75.D2e6IT1U0AAcZWX.jpg\n",
      "Completed Image ====> 76.be9df661be1b4b6db1d0cdcadf08e571.jpeg\n",
      "Completed Image ====> 77.785706.jpg\n",
      "Completed Image ====> 78.Kim-Taehyung-Photo-1.jpg\n",
      "Completed Image ====> 79.maxresdefault.jpg\n",
      "Completed Image ====> 80.BTS-V-Famous-STAR.jpg\n",
      "Completed Image ====> 81.GettyImages-1052926034-920x584.jpg\n",
      "Completed Image ====> 82.thumb444x250-06.jpg\n",
      "Completed Image ====> 83.170px-V_%28Kim_Tae-hyung%29_at_The_Mood_For_Love_Concert_in_Kobe_in_March_2016_03.jpg\n",
      "Completed Image ====> 84.BTS-V-3-1.jpg\n",
      "Completed Image ====> 85.7be689fb3aab53849067dbbda182f920.jpg\n",
      "Completed Image ====> 86.v-bts.jpg\n"
     ]
    },
    {
     "name": "stderr",
     "output_type": "stream",
     "text": [
      "\n",
      " 33%|███▎      | 1/3 [00:51<01:42, 51.22s/it]\u001b[A"
     ]
    },
    {
     "name": "stdout",
     "output_type": "stream",
     "text": [
      "Completed Image ====> 87.k-pop-boy-band-bts-member-v-whose-real-name-is-kim-tae-hyung-plays-hong-han-sung-in-kbs-2tvs-hwarang-the-poet-warrior-youth.jpg\n",
      "\n",
      "\n",
      "Unfortunately all 100 could not be downloaded because some images were not downloadable. 87 is all we got for this search filter!\n",
      "\n",
      "Errors: 13\n",
      "\n",
      "\n",
      "Item no.: 1 --> Item name = BTS Jeongguk\n",
      "Evaluating...\n",
      "Starting Download...\n",
      "Invalid or missing image format. Skipping...\n",
      "Completed Image ====> 1.1b4dd56b15ed17864e769e354a3d887a.jpg\n",
      "Completed Image ====> 2.e2c84cbec827a2d6cf05bec4f91b1cbe.jpg\n",
      "Completed Image ====> 3.2ybp8yy.jpg\n",
      "Completed Image ====> 4.bts-jungkook---jeon-jeongguk--1537799622-view-0.png\n",
      "Completed Image ====> 5.bbf2b0ab78123ecb8d84eecf8c27f17b.jpg\n",
      "Completed Image ====> 6.BTS%20Jungkook%20The%20Fact%20Music%20Awards.jpg\n",
      "Completed Image ====> 7.37ae8004d737015fb05a8bd7a35300d9.jpg\n",
      "Completed Image ====> 8.large.png\n",
      "Completed Image ====> 9.Black-Jungkook-640x430.jpg\n",
      "Invalid or missing image format. Skipping...\n",
      "Completed Image ====> 10.superthumb.jpg\n",
      "Completed Image ====> 11.Jeon_Jung-kook_at_BBMAs%2C_1_May_2019_02.jpg\n",
      "Completed Image ====> 12.Jungkook.jpg\n",
      "Completed Image ====> 13.profile_jk.jpg\n",
      "Completed Image ====> 14.1565975869-image.png\n",
      "Completed Image ====> 15.022f302d62439c6b73954f3f4b18fafa.jpg\n",
      "Completed Image ====> 16.superthumb.jpg\n",
      "Completed Image ====> 17.tenor.gif\n",
      "Invalid or missing image format. Skipping...\n",
      "Completed Image ====> 18.e4810890d52bf6ecf403cc728d4d96d0.jpg\n",
      "Completed Image ====> 19.BTS-Jungkook-btsdiarycom.jpg\n",
      "Completed Image ====> 20.bts-jungkook-14.jpg\n",
      "Invalid or missing image format. Skipping...\n",
      "Invalid or missing image format. Skipping...\n",
      "Completed Image ====> 21.234977846059202.gif\n",
      "Completed Image ====> 22.Jungkook-2-900x595.jpg\n",
      "Completed Image ====> 23.025befc0b1fe4b8be8f5b4724f68aa64.jpg\n",
      "Completed Image ====> 24.hqdefault.jpg\n",
      "Invalid or missing image format. Skipping...\n",
      "Completed Image ====> 25.tumblr_pboac1RmiW1xs76elo1_250.jpg\n",
      "Completed Image ====> 26.jungKook-sister.jpg\n",
      "Completed Image ====> 27.BTS%20Jungkook%20Euphoria.jpg\n",
      "Completed Image ====> 28.Jeon_Jung-kook_at_Golden_Disk_Awards%2C_5_January_2019_02.jpg\n",
      "Completed Image ====> 29.tenor.gif\n",
      "Invalid or missing image format. Skipping...\n",
      "Completed Image ====> 30.4a71bcdbcd4df307d9be10009672bb20.jpg\n",
      "Completed Image ====> 31.42-421108_bts-cute-png-jungkook-fotos-de-bts.png\n",
      "Completed Image ====> 32.tumblr_omhd48IBmQ1v7rmono1_250.png\n",
      "Completed Image ====> 33.1-17178_playboy-jeon-jeongguk-bts-wallpaper-screen-wallpaper-bts.jpg\n",
      "Completed Image ====> 34.large.jpg\n",
      "Completed Image ====> 35.MV5BN2Q1MjM2YWEtZmVhMi00ZGVjLWExMjAtMWNmY2E1Njc1MDFiXkEyXkFqcGdeQXVyMzM4MjM0Nzg@._V1_UY1200_CR106,0,630,1200_AL_.jpg\n",
      "Invalid or missing image format. Skipping...\n",
      "Completed Image ====> 36.spNuAI4V_400x400.jpg\n",
      "Completed Image ====> 37.tenor.gif\n",
      "Completed Image ====> 38.CtxDzB9UkAACDrF.jpg\n",
      "Completed Image ====> 39.a95190ce623fc0c2d431dc7f332cf614.jpg\n",
      "Completed Image ====> 40.2b574841005a6cd6e456206289a513e8a0500519_hq.jpg\n",
      "URLError on an image...trying next one... Error: HTTP Error 404: Not Found\n",
      "URLError on an image...trying next one... Error: HTTP Error 403: Forbidden\n",
      "Completed Image ====> 41.wp2336836.png\n",
      "Completed Image ====> 42.tenor.gif\n",
      "Completed Image ====> 43.pri_62367729-e1538149516487.jpg\n",
      "Completed Image ====> 44.tumblr_omt9vsZ0lb1vcacaso1_250.jpg\n",
      "Completed Image ====> 45.422-4229732_jeon-kookie-jeongguk-cute-bunny-bts-jungkook.png\n",
      "Completed Image ====> 46.jeon-jungkook.jpg\n",
      "Completed Image ====> 47.6353750c43ddbeb65066c2b45fc4103e.jpg\n",
      "Completed Image ====> 48.list_91723ae4291a00ad613401a04cb1e918.jpg\n",
      "Completed Image ====> 49.82-828645_maknae-of-bts-jungkook-oppa-kim-taehyung-bts.jpg\n",
      "Invalid or missing image format. Skipping...\n",
      "Completed Image ====> 50.tumblr_omt9vsZ0lb1vcacaso2_250.jpg\n",
      "Completed Image ====> 51.180524_Jungkook_at_a_press_conference_for_Love_Yourself_Tear_%281%29.png\n",
      "Completed Image ====> 52.tumblr_nqjrkooqtb1u64asdo2_400.gif\n",
      "Completed Image ====> 53.large.jpg\n",
      "Completed Image ====> 54.Jungkook-wiki.jpg\n",
      "Completed Image ====> 55.25-252347_bts-jungkook-jeon-jungkook-rabbit-bts-jeongguk-bunny.png\n",
      "Completed Image ====> 56.4-49288_bts-jungkook-png-bts-corte-de-cabelo.png\n",
      "Completed Image ====> 57.bts-jungkook-hair-cover.jpg\n",
      "Completed Image ====> 58.CtwA-qFUEAEry0h.jpg\n",
      "Completed Image ====> 59.BTS-Jungkook-Wiki-Bio-Net-Worth-286x286.jpg\n",
      "Completed Image ====> 60.00-promo-jungkook-billie-eilish.jpg\n",
      "Completed Image ====> 61.67443222_367229807541274_2392504164065968829_n.jpg\n",
      "Completed Image ====> 62.c0612b6f-1f03-44bb-aa05-f68f30de7451-a04fa8f4-7805-45d1-a4fa-ca9b4040b57a-getty-1146360318.jpg\n",
      "Completed Image ====> 63.tenor.gif\n",
      "Invalid or missing image format. Skipping...\n",
      "Completed Image ====> 64.1-Jungkook.jpg\n",
      "Completed Image ====> 65.jungkook.jpg\n",
      "Completed Image ====> 66.65735430_2890993214307431_6531845830658228224_n.jpg\n",
      "Completed Image ====> 67.large.jpg\n",
      "Completed Image ====> 68.36-363431_bts-jungkook-wallpaper-cute-the-best-hd-wallpaper.png\n",
      "Completed Image ====> 69.tumblr_pboac1RmiW1xs76elo2_250.jpg\n",
      "Completed Image ====> 70.281359096030211.png\n",
      "Completed Image ====> 71.tumblr_nw7icfoE2N1u64asdo1_r4_250.gif\n",
      "Invalid or missing image format. Skipping...\n",
      "Completed Image ====> 72.765496.jpg\n",
      "Completed Image ====> 73.jungkookmainjpg.jpg\n",
      "Completed Image ====> 74.EAOU7KTUEAAfSId.jpg\n",
      "Completed Image ====> 75.15-151432_by-kpoperatroxa-on-deviantart-bts-jungkook-cute-hot.png\n",
      "Completed Image ====> 76.jungkook_header_720x.jpg\n",
      "Completed Image ====> 77.AbsoluteExcitableAmericangoldfinch-max-1mb.gif\n",
      "Completed Image ====> 78.tenor.gif\n",
      "Completed Image ====> 79.tumblr_pfcgswyBpS1u8do46_1280.jpg\n",
      "Completed Image ====> 80.tf-is-that-jungkook-bts-jkook-46727735.png\n",
      "Completed Image ====> 81.188951644-352-k5543.jpg\n",
      "Completed Image ====> 82.jungkook-of-bts-visit-the-elvis-duran-z100-morning-show-at-news-photo-1136456187-1565193631.jpg\n",
      "Completed Image ====> 83.81a9c15fed99a8d95c440db49fb5e325.jpg\n",
      "Completed Image ====> 84.jungkookiez.jpg\n",
      "Completed Image ====> 85.SEC_60932063.jpg\n",
      "Completed Image ====> 86.706535c5-f03d-42f7-9c95-d14dfb77a26a-jungkook.jpg\n"
     ]
    },
    {
     "name": "stderr",
     "output_type": "stream",
     "text": [
      "\n",
      " 67%|██████▋   | 2/3 [01:57<00:55, 55.63s/it]\u001b[A"
     ]
    },
    {
     "name": "stdout",
     "output_type": "stream",
     "text": [
      "Completed Image ====> 87.BTS%20Jungkook%20The%20Fact%20Music%20Awards.jpg\n",
      "\n",
      "\n",
      "Unfortunately all 100 could not be downloaded because some images were not downloadable. 87 is all we got for this search filter!\n",
      "\n",
      "Errors: 13\n",
      "\n",
      "\n",
      "Item no.: 1 --> Item name = Bigbang TOP\n",
      "Evaluating...\n",
      "Starting Download...\n",
      "Completed Image ====> 1.t.o.p-of-bigbang-sept-2016-billboard-1548.jpg\n",
      "Completed Image ====> 2.20190707-big-bang.jpg\n",
      "Completed Image ====> 3.rs_600x600-190707200610-e-asia-big-bang-top-thumbnail-GettyImages-610388818.jpg\n",
      "Completed Image ====> 4.soompi.com_-2.jpg\n",
      "Completed Image ====> 5.T.O.P_-_0.TO.10_in_Seoul_-_2.jpg\n",
      "Completed Image ====> 6.rs_600x600-190707200610-e-asia-big-bang-top-thumbnail-GettyImages-610388818.jpg\n",
      "Completed Image ====> 7.2ee1fe9e3a7d96eefed620f67f2f945b.png\n",
      "Completed Image ====> 8.img_2991.jpg\n",
      "Completed Image ====> 9.BIGBANG-T.O.P-2.jpg\n",
      "Completed Image ====> 10.top-cover.png\n",
      "Completed Image ====> 11.Screen%2BShot%2B2019-07-05%2Bat%2B6.11.31%2BPM.png\n",
      "Completed Image ====> 12.bigbang-top.jpg\n",
      "Completed Image ====> 13.bigbangtop.png\n",
      "Completed Image ====> 14.76b86048ea23890ca8036c3940338289.png\n",
      "Completed Image ====> 15.1076175615.jpg\n",
      "Completed Image ====> 16.201315437_1280.jpg\n",
      "Completed Image ====> 17.large.jpg\n",
      "Completed Image ====> 18.9369fbed9cf055b1affb7eaab147459f.jpg\n",
      "Completed Image ====> 19.rs_1024x1536-190707200519-e-asia-big-bang-top-GettyImages-610388818.jpg\n",
      "Completed Image ====> 20.fans-are-just-counting-down-the-days-to-see-t-o-p-complete-his-compulsory-duties-and-be-active-on-social-media-and-the-entertainment-world-once-again-photo-by-t-o-p-instagram.jpg\n",
      "Completed Image ====> 21.top-in-the-music-video-for-fantastic-baby-via-yg-entertainmentscreen-capture-of-fantastic-baby_1417611.jpg\n",
      "Completed Image ====> 22.20190707000039_0.jpg\n",
      "Completed Image ====> 23.bigbang-top.jpg\n",
      "Completed Image ====> 24.unnamed.jpg\n",
      "Completed Image ====> 25.220px-T.O.P_-_MADE_THE_MOVIE_Premiere.jpg\n",
      "Completed Image ====> 26.t-o-ps-face-was-blurred-out-in-kbs-new-program.jpg\n",
      "Completed Image ====> 27.T.O.P.png\n",
      "Completed Image ====> 28.20170605_TOP_BIG_BANG_INSTAGRAM.jpg\n",
      "Completed Image ====> 29.maxresdefault.jpg\n",
      "Completed Image ====> 30.TOPBIGBANG_010817_AFP.jpg\n",
      "Completed Image ====> 31.tumblr_p6qgnyYFgT1u0t0c6o1_500.jpg\n",
      "Completed Image ====> 32.topfans1.png\n",
      "Completed Image ====> 33.bigbangtop-1497015643-640x488.png\n",
      "Completed Image ====> 34.tumblr_n4t2voXPPH1rm7fruo1_500.jpg\n",
      "Completed Image ====> 35.BIGBANGs-TOP-to-lose-police-post-after-drug-conviction.jpg\n",
      "Completed Image ====> 36.top-bigbang.png\n",
      "Completed Image ====> 37.big+bang+top+high+cut+2011-01.jpg\n",
      "Completed Image ====> 38.TOP.jpg\n",
      "Completed Image ====> 39.D-tB3RlXUAEHK6d.jpg\n",
      "URLError on an image...trying next one... Error: <urlopen error [SSL: CERTIFICATE_VERIFY_FAILED] certificate verify failed (_ssl.c:833)>\n",
      "Completed Image ====> 40.tumblr_nvw3mpIWWw1utactko9_250.png\n",
      "Invalid or missing image format. Skipping...\n",
      "Completed Image ====> 41.bigbang-top-render-png-clipart.jpg\n",
      "Completed Image ====> 42.T.O.P_-_0.TO_.10_in_Seoul_-_2-e1480684018757.jpg\n",
      "Completed Image ====> 43.51OM1a%2BA4bL._SX425_.jpg\n",
      "Completed Image ====> 44.1-116.jpg\n",
      "Completed Image ====> 45.BIGBANG-T-O-P-Esquire-Magazine-May-Issue-15-top-from-big-bang-38466290-600-792.jpg\n",
      "Completed Image ====> 46.wp2485092.jpg\n",
      "Completed Image ====> 47.998e5d4d-8260-4e3d-a714-c326ffe96ab2.jpg\n",
      "Completed Image ====> 48.494b031ef489826817bd30d297538203.jpg\n",
      "Completed Image ====> 49.afp-20170609-skorea-kpop-TOP-bigbang_1FC136CB603A4FE58BE48D5F0AED51AE.jpg\n",
      "Completed Image ====> 50.bb-top.png\n",
      "Completed Image ====> 51.BIGBANG-T.O.P-discharge-1.jpg\n",
      "Completed Image ====> 52.big-bang-top.jpg\n",
      "Completed Image ====> 53.large.png\n",
      "Completed Image ====> 54.TOP.jpg\n",
      "Completed Image ====> 55.big-bang-top-yg-apologise.jpg\n",
      "Completed Image ====> 56.BIGBANG-T.O.P1.png\n",
      "Completed Image ====> 57.top-leaving-police-station.jpg\n",
      "Completed Image ====> 58.3-2.jpg\n",
      "Completed Image ====> 59.T.O.P..full.34072.jpg\n",
      "URLError on an image...trying next one... Error: HTTP Error 404: Not Found\n",
      "Completed Image ====> 60.BIGBANG-TOP-1.png\n",
      "Completed Image ====> 61.07_1128-copy-464x600.jpg\n",
      "Completed Image ====> 62.maxresdefault.jpg\n",
      "Completed Image ====> 63.AEN20170606004551315_01_i-1.jpg\n",
      "Completed Image ====> 64.4761005902_9ff2d7e872_b.jpg\n",
      "Completed Image ====> 65.si_top_682017.jpg\n",
      "Completed Image ====> 66.BigBang-TOP.jpg\n",
      "Completed Image ====> 67.BIGBANG-T.O.P-discharge.jpg\n",
      "Completed Image ====> 68.ChoiSeungHyun.jpg\n",
      "Completed Image ====> 69.top-bigbang.jpg\n",
      "Completed Image ====> 70.gettyimages-506407332_0.jpg\n",
      "Completed Image ====> 71.bigbang-top24.jpg\n",
      "Completed Image ====> 72.MFK8_2Zj_400x400.jpeg\n",
      "Completed Image ====> 73.T.O.P.jpg\n",
      "Completed Image ====> 74.669ed0ab3d5221273f149a1eef6c77d0ee540acdv2_hq.jpg\n",
      "Completed Image ====> 75._96394101_gettyimages-183156734.jpg\n",
      "Invalid or missing image format. Skipping...\n",
      "Completed Image ====> 76.top-bigbang-1.jpg\n",
      "URLError on an image...trying next one... Error: <urlopen error [SSL: CERTIFICATE_VERIFY_FAILED] certificate verify failed (_ssl.c:833)>\n",
      "Completed Image ====> 77.ra,unisex_tshirt,x2200,101010:01c5ca27c6,front-c,392,146,750,1000-bg,f8f8f8.u2.jpg\n",
      "Completed Image ====> 78.d57p31y-9bd484ff-acdd-4082-9709-1c430a2be73f.jpg\n",
      "Completed Image ====> 79.t.o.p-big-bang-height.jpg\n",
      "Completed Image ====> 80.bigbang-members.jpg\n",
      "Completed Image ====> 81.wp2485119.jpg\n",
      "Completed Image ====> 82.tenor.gif\n",
      "Completed Image ====> 83.d1042189a0bff9035d9683c54f5a2339.jpg\n",
      "Completed Image ====> 84.bigbang-welcoming-collection-2017-t-o-p-2.jpg\n",
      "Completed Image ====> 85.fullscreen_capture_20012015_102110_pm.jpg\n",
      "Completed Image ====> 86.bigbang-top-v2-prints.jpg\n",
      "Completed Image ====> 87.22b50ea1-0b82-40b9-ad3c-d7c3eb13d92b_169.jpeg\n",
      "Completed Image ====> 88.large.jpg\n",
      "Completed Image ====> 89.bigbang-top-and-juri-ueno-attend-the-press-conference-of-secret-message-F56P0H.jpg\n",
      "Completed Image ====> 90.BIGBANG-T.O.P.jpeg\n",
      "Invalid or missing image format. Skipping...\n",
      "Completed Image ====> 91.imgbin-t-o-p-bigbang-big-bang-gd-top-photography-giant-m5LyRZWZN3pgQEDgDZxxEmwTQ.jpg\n",
      "Completed Image ====> 92.336-3369628_p-bigbang-top-k-pop-k-pop-kpop.png\n",
      "Completed Image ====> 93.20170720000832_0.jpg\n"
     ]
    },
    {
     "name": "stderr",
     "output_type": "stream",
     "text": [
      "\n",
      "100%|██████████| 3/3 [03:19<00:00, 66.35s/it]\u001b[A"
     ]
    },
    {
     "name": "stdout",
     "output_type": "stream",
     "text": [
      "Completed Image ====> 94.TOP-top-from-big-bang-32702291-500-733.jpg\n",
      "\n",
      "\n",
      "Unfortunately all 100 could not be downloaded because some images were not downloadable. 94 is all we got for this search filter!\n",
      "\n",
      "Errors: 6\n",
      "\n"
     ]
    },
    {
     "name": "stderr",
     "output_type": "stream",
     "text": [
      "\n"
     ]
    }
   ],
   "source": [
    "get_images(sm_m_names)"
   ]
  },
  {
   "cell_type": "code",
   "execution_count": null,
   "metadata": {},
   "outputs": [],
   "source": [
    "get_images(sm_w_names)"
   ]
  },
  {
   "cell_type": "markdown",
   "metadata": {},
   "source": [
    "### 2.2 JYP 소속 아이돌 사진 크롤링"
   ]
  },
  {
   "cell_type": "code",
   "execution_count": null,
   "metadata": {},
   "outputs": [],
   "source": [
    "get_images(sm_m_names)"
   ]
  },
  {
   "cell_type": "code",
   "execution_count": null,
   "metadata": {},
   "outputs": [],
   "source": [
    "get_images(sm_w_names)"
   ]
  },
  {
   "cell_type": "markdown",
   "metadata": {},
   "source": [
    "### 2.3 YG 소속 아이돌 사진 크롤링"
   ]
  },
  {
   "cell_type": "code",
   "execution_count": null,
   "metadata": {},
   "outputs": [],
   "source": [
    "get_images(yg_w_names)"
   ]
  },
  {
   "cell_type": "code",
   "execution_count": null,
   "metadata": {},
   "outputs": [],
   "source": [
    "get_images(yg_w_names)"
   ]
  },
  {
   "cell_type": "markdown",
   "metadata": {},
   "source": [
    "### 2.4 보충"
   ]
  },
  {
   "cell_type": "markdown",
   "metadata": {},
   "source": [
    "활동명이 보통명사이거나 동명이인이 있는 경우, 기타 검색이 잘 되지 않은 경우 검색이 잘되는 형태의 이름으로 바꾸고 크롤링을 보충해준다"
   ]
  },
  {
   "cell_type": "code",
   "execution_count": null,
   "metadata": {},
   "outputs": [],
   "source": [
    "ls = ['비', 'ses 바다', '태양', '탑', '마크',\n",
    "      '위너 이승훈', '아이콘 정찬우',\n",
    "      '박봄', '로제', '리사', '씨엘',\n",
    "      '세븐', '승리', '지드래곤', '지디',\n",
    "      '루나', 'ses 슈', '미쓰에이 페이']"
   ]
  },
  {
   "cell_type": "code",
   "execution_count": null,
   "metadata": {},
   "outputs": [],
   "source": [
    "for name in tqdm(ls):\n",
    "    response = google_images_download.googleimagesdownload()\n",
    "    arguments = {\"keywords\":\"{} 얼굴\".format(name),\"limit\":100,\"print_urls\":False}   #creating list of arguments\n",
    "    paths = response.download(arguments)"
   ]
  }
 ],
 "metadata": {
  "kernelspec": {
   "display_name": "Python 3",
   "language": "python",
   "name": "python3"
  },
  "language_info": {
   "codemirror_mode": {
    "name": "ipython",
    "version": 3
   },
   "file_extension": ".py",
   "mimetype": "text/x-python",
   "name": "python",
   "nbconvert_exporter": "python",
   "pygments_lexer": "ipython3",
   "version": "3.6.5"
  }
 },
 "nbformat": 4,
 "nbformat_minor": 2
}
