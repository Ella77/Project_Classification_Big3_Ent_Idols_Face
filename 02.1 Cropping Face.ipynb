{
 "cells": [
  {
   "cell_type": "markdown",
   "metadata": {},
   "source": [
    "# 02. Cropping Face: 아이돌 사진에서 얼굴 부분만 잘라내기 "
   ]
  },
  {
   "cell_type": "markdown",
   "metadata": {},
   "source": [
    "openCV를 기반으로 한 autocrop이라는 library를 활용하여 크롤링한 아이돌들의 사진에서 얼굴 부분을 잘라내어 96*96 사이즈로 저장한다 "
   ]
  },
  {
   "cell_type": "markdown",
   "metadata": {},
   "source": [
    "참고: [autocrop github repository](https://github.com/leblancfg/autocrop)"
   ]
  },
  {
   "cell_type": "code",
   "execution_count": 75,
   "metadata": {},
   "outputs": [
    {
     "name": "stdout",
     "output_type": "stream",
     "text": [
      "/bin/sh: 1: cd: can't cd to BTS\n",
      "01. Image Crawling.ipynb\t\t LICENSE    crop       sm.csv\n",
      "02.1 Cropping Face.ipynb\t\t README.md  downloads  train_data.npy\n",
      "02.2 Preprocessing image data set.ipynb  autocrop   sm.cs      train_target.npy\n"
     ]
    }
   ],
   "source": [
    "\n",
    "import cv2\n",
    "import autocrop\n",
    "from tqdm import tqdm \n",
    "import glob\n",
    "!cd downloads\n",
    "!cd BTS V\n",
    "!ls"
   ]
  },
  {
   "cell_type": "code",
   "execution_count": null,
   "metadata": {},
   "outputs": [],
   "source": [
    "!autocrop -i ./crop/TOP/ -o crop/TOP -r downloads/TOP -w 96 -H 96 --facePercent 80 \n"
   ]
  },
  {
   "cell_type": "code",
   "execution_count": null,
   "metadata": {},
   "outputs": [],
   "source": [
    "!autocrop -i ./crop/Jeong/ -o crop/Jeong -r downloads/Jeong -w 96 -H 96 --facePercent 80"
   ]
  },
  {
   "cell_type": "code",
   "execution_count": 79,
   "metadata": {},
   "outputs": [
    {
     "name": "stdout",
     "output_type": "stream",
     "text": [
      "Processing images in folder: /home/ubuntu/xvdf1/tacotron2_markornot/soojin/Project_Classification_Big3_Ent_Idols_Face/downloads/BTSV\n",
      "No face detected: /home/ubuntu/xvdf1/tacotron2_markornot/soojin/Project_Classification_Big3_Ent_Idols_Face/crop/BTSV/35.tumblr_psrbtoPnep1vcgytk_1280.jpg\n",
      "No face detected: /home/ubuntu/xvdf1/tacotron2_markornot/soojin/Project_Classification_Big3_Ent_Idols_Face/crop/BTSV/40.V_for_Dispatch_%22Boy_With_Luv%22_MV_behind_the_scene_shooting%2C_15_March_2019_04.jpg\n",
      "Face detected:    /home/ubuntu/xvdf1/tacotron2_markornot/soojin/Project_Classification_Big3_Ent_Idols_Face/crop/BTSV/15.f8ab4d28db1afdaf3ca794f38d61aee7.jpg\n",
      "Face detected:    /home/ubuntu/xvdf1/tacotron2_markornot/soojin/Project_Classification_Big3_Ent_Idols_Face/crop/BTSV/50.V-BTS-1600x768.jpg\n",
      "Face detected:    /home/ubuntu/xvdf1/tacotron2_markornot/soojin/Project_Classification_Big3_Ent_Idols_Face/crop/BTSV/59.90044_95099_159.jpg\n",
      "No face detected: /home/ubuntu/xvdf1/tacotron2_markornot/soojin/Project_Classification_Big3_Ent_Idols_Face/crop/BTSV/1.MV5BMjUyZGRlZGUtMjU1OC00NjJjLTk0MWQtN2RjZTYzYzgxZjVhXkEyXkFqcGdeQXVyMzM4MjM0Nzg@._V1_.jpg\n",
      "No face detected: /home/ubuntu/xvdf1/tacotron2_markornot/soojin/Project_Classification_Big3_Ent_Idols_Face/crop/BTSV/28.653fc08f2c71ea22c62db873e5031e31.jpg\n",
      "Face detected:    /home/ubuntu/xvdf1/tacotron2_markornot/soojin/Project_Classification_Big3_Ent_Idols_Face/crop/BTSV/62.ALLKPOPER-KPOP-BTS-V-Jackets-Love-yourself-Windbreaker-Bangtan-Boys-Coat-Winter-Comfort_73fca6bb-bb87-4571-8070-c7810766f5c9.jpg\n",
      "Face detected:    /home/ubuntu/xvdf1/tacotron2_markornot/soojin/Project_Classification_Big3_Ent_Idols_Face/crop/BTSV/12.EB-nB3FUIAApyd1.jpg\n",
      "Face detected:    /home/ubuntu/xvdf1/tacotron2_markornot/soojin/Project_Classification_Big3_Ent_Idols_Face/crop/BTSV/22.tout.jpg\n",
      "Face detected:    /home/ubuntu/xvdf1/tacotron2_markornot/soojin/Project_Classification_Big3_Ent_Idols_Face/crop/BTSV/55.v-bts.jpg\n",
      "No face detected: /home/ubuntu/xvdf1/tacotron2_markornot/soojin/Project_Classification_Big3_Ent_Idols_Face/crop/BTSV/31.0000046083-001-20180621083034902-9a65ba4dba803a802d1e03edd52172bd_600x400.jpeg\n",
      "Face detected:    /home/ubuntu/xvdf1/tacotron2_markornot/soojin/Project_Classification_Big3_Ent_Idols_Face/crop/BTSV/74.tumblr_psrbtn2UgE1vcgytk_640.jpg\n",
      "No face detected: /home/ubuntu/xvdf1/tacotron2_markornot/soojin/Project_Classification_Big3_Ent_Idols_Face/crop/BTSV/19.v_paint_1567072866.jpg\n",
      "No face detected: /home/ubuntu/xvdf1/tacotron2_markornot/soojin/Project_Classification_Big3_Ent_Idols_Face/crop/BTSV/34.1567103030-img-20190827-192706.jpg\n",
      "Face detected:    /home/ubuntu/xvdf1/tacotron2_markornot/soojin/Project_Classification_Big3_Ent_Idols_Face/crop/BTSV/77.785706.jpg\n",
      "Face detected:    /home/ubuntu/xvdf1/tacotron2_markornot/soojin/Project_Classification_Big3_Ent_Idols_Face/crop/BTSV/65.00-story-v.jpg\n",
      "No face detected: /home/ubuntu/xvdf1/tacotron2_markornot/soojin/Project_Classification_Big3_Ent_Idols_Face/crop/BTSV/6.bts-v.jpg\n",
      "No face detected: /home/ubuntu/xvdf1/tacotron2_markornot/soojin/Project_Classification_Big3_Ent_Idols_Face/crop/BTSV/38.BTS-member-V-starts-speaking-English.jpg\n",
      "Face detected:    /home/ubuntu/xvdf1/tacotron2_markornot/soojin/Project_Classification_Big3_Ent_Idols_Face/crop/BTSV/27.153081790-352-k227946.jpg\n",
      "Face detected:    /home/ubuntu/xvdf1/tacotron2_markornot/soojin/Project_Classification_Big3_Ent_Idols_Face/crop/BTSV/21.sei_23670039-eaf9-e1533035305169.jpg\n",
      "No face detected: /home/ubuntu/xvdf1/tacotron2_markornot/soojin/Project_Classification_Big3_Ent_Idols_Face/crop/BTSV/51.bangtan05-1.jpg\n",
      "No face detected: /home/ubuntu/xvdf1/tacotron2_markornot/soojin/Project_Classification_Big3_Ent_Idols_Face/crop/BTSV/4.71IvZBWxh-L._SY606_.jpg\n",
      "Face detected:    /home/ubuntu/xvdf1/tacotron2_markornot/soojin/Project_Classification_Big3_Ent_Idols_Face/crop/BTSV/2.190417_V_at_the_Map_of_the_Soul_Persona_press_conference.jpg\n",
      "Face detected:    /home/ubuntu/xvdf1/tacotron2_markornot/soojin/Project_Classification_Big3_Ent_Idols_Face/crop/BTSV/66.jxamppMFmnTWUvK-800x450-noPad.jpg\n",
      "Face detected:    /home/ubuntu/xvdf1/tacotron2_markornot/soojin/Project_Classification_Big3_Ent_Idols_Face/crop/BTSV/78.Kim-Taehyung-Photo-1.jpg\n",
      "Face detected:    /home/ubuntu/xvdf1/tacotron2_markornot/soojin/Project_Classification_Big3_Ent_Idols_Face/crop/BTSV/30.bts-v-taehyung-checkered-headband-gotamochi-btsmerch-kawaiiclothes-4662315516017_2000x.jpg\n",
      "Face detected:    /home/ubuntu/xvdf1/tacotron2_markornot/soojin/Project_Classification_Big3_Ent_Idols_Face/crop/BTSV/14.5f8b3d2178e14ebebcfa1d26253ce5fc.jpeg\n",
      "No face detected: /home/ubuntu/xvdf1/tacotron2_markornot/soojin/Project_Classification_Big3_Ent_Idols_Face/crop/BTSV/70.190812-15.jpg\n",
      "No face detected: /home/ubuntu/xvdf1/tacotron2_markornot/soojin/Project_Classification_Big3_Ent_Idols_Face/crop/BTSV/7.13443470_f520.jpg\n",
      "No face detected: /home/ubuntu/xvdf1/tacotron2_markornot/soojin/Project_Classification_Big3_Ent_Idols_Face/crop/BTSV/20.8671eece-4e75-4578-9c7f-21fc04659796-v.png\n",
      "No face detected: /home/ubuntu/xvdf1/tacotron2_markornot/soojin/Project_Classification_Big3_Ent_Idols_Face/crop/BTSV/61.811-5cv6NAL._SY679_.jpg\n",
      "No face detected: /home/ubuntu/xvdf1/tacotron2_markornot/soojin/Project_Classification_Big3_Ent_Idols_Face/crop/BTSV/64.bts-v-taehyung-pierced-cap-white-gotamochi-btsmerch-kawaiiclothes-5414724730993_400x.jpg\n",
      "Face detected:    /home/ubuntu/xvdf1/tacotron2_markornot/soojin/Project_Classification_Big3_Ent_Idols_Face/crop/BTSV/45.BTS-V-Yeontan.jpg\n",
      "No face detected: /home/ubuntu/xvdf1/tacotron2_markornot/soojin/Project_Classification_Big3_Ent_Idols_Face/crop/BTSV/16.BTS-V-1549175068793_16a4a157dee_large.jpg\n",
      "Face detected:    /home/ubuntu/xvdf1/tacotron2_markornot/soojin/Project_Classification_Big3_Ent_Idols_Face/crop/BTSV/11.btsvidol.jpg\n",
      "No face detected: /home/ubuntu/xvdf1/tacotron2_markornot/soojin/Project_Classification_Big3_Ent_Idols_Face/crop/BTSV/46.ecef21cb-bd18-4301-8e3c-05a398b3e03f.jpg\n",
      "Face detected:    /home/ubuntu/xvdf1/tacotron2_markornot/soojin/Project_Classification_Big3_Ent_Idols_Face/crop/BTSV/41.4e9cdb29c39ea7e055d32b76616cf2e8.jpg\n",
      "Face detected:    /home/ubuntu/xvdf1/tacotron2_markornot/soojin/Project_Classification_Big3_Ent_Idols_Face/crop/BTSV/47.BTSV3-e1539248535704.jpg\n",
      "Face detected:    /home/ubuntu/xvdf1/tacotron2_markornot/soojin/Project_Classification_Big3_Ent_Idols_Face/crop/BTSV/53.unnamed-25.jpg\n",
      "Face detected:    /home/ubuntu/xvdf1/tacotron2_markornot/soojin/Project_Classification_Big3_Ent_Idols_Face/crop/BTSV/63.BTS-V-like-father-like-son-2.jpg\n",
      "No face detected: /home/ubuntu/xvdf1/tacotron2_markornot/soojin/Project_Classification_Big3_Ent_Idols_Face/crop/BTSV/29.BTS-V-1-6.jpg\n",
      "No face detected: /home/ubuntu/xvdf1/tacotron2_markornot/soojin/Project_Classification_Big3_Ent_Idols_Face/crop/BTSV/82.thumb444x250-06.jpg\n",
      "No face detected: /home/ubuntu/xvdf1/tacotron2_markornot/soojin/Project_Classification_Big3_Ent_Idols_Face/crop/BTSV/5.70613ea3a3e8d5a71241540fb9ba10ea.jpg\n",
      "No face detected: /home/ubuntu/xvdf1/tacotron2_markornot/soojin/Project_Classification_Big3_Ent_Idols_Face/crop/BTSV/48.ST_20171230_JB30KIM_3656036.jpg\n",
      "Face detected:    /home/ubuntu/xvdf1/tacotron2_markornot/soojin/Project_Classification_Big3_Ent_Idols_Face/crop/BTSV/10.bts-v-pants-cover.jpg\n",
      "Face detected:    /home/ubuntu/xvdf1/tacotron2_markornot/soojin/Project_Classification_Big3_Ent_Idols_Face/crop/BTSV/56.5854477d53574f9da5ab411f6aa5603d.jpeg\n",
      "No face detected: /home/ubuntu/xvdf1/tacotron2_markornot/soojin/Project_Classification_Big3_Ent_Idols_Face/crop/BTSV/58.v_header_720x.jpg\n",
      "Face detected:    /home/ubuntu/xvdf1/tacotron2_markornot/soojin/Project_Classification_Big3_Ent_Idols_Face/crop/BTSV/44.5fdd1b64-35be-11e9-b09f-892c410303c7_image_hires_125923.JPG\n",
      "Face detected:    /home/ubuntu/xvdf1/tacotron2_markornot/soojin/Project_Classification_Big3_Ent_Idols_Face/crop/BTSV/23.BTSV1-e1539248488668.jpg\n",
      "No face detected: /home/ubuntu/xvdf1/tacotron2_markornot/soojin/Project_Classification_Big3_Ent_Idols_Face/crop/BTSV/24.Taehyung-v-bts-41539135-1280-1920.jpg\n",
      "Face detected:    /home/ubuntu/xvdf1/tacotron2_markornot/soojin/Project_Classification_Big3_Ent_Idols_Face/crop/BTSV/52.image.jpg\n",
      "No face detected: /home/ubuntu/xvdf1/tacotron2_markornot/soojin/Project_Classification_Big3_Ent_Idols_Face/crop/BTSV/36.olsbtsvjkw001a_1566885795.jpg\n"
     ]
    },
    {
     "name": "stdout",
     "output_type": "stream",
     "text": [
      "No face detected: /home/ubuntu/xvdf1/tacotron2_markornot/soojin/Project_Classification_Big3_Ent_Idols_Face/crop/BTSV/33.maxresdefault.jpg\n",
      "Face detected:    /home/ubuntu/xvdf1/tacotron2_markornot/soojin/Project_Classification_Big3_Ent_Idols_Face/crop/BTSV/42.bts-v.jpg\n",
      "Face detected:    /home/ubuntu/xvdf1/tacotron2_markornot/soojin/Project_Classification_Big3_Ent_Idols_Face/crop/BTSV/81.GettyImages-1052926034-920x584.jpg\n",
      "Face detected:    /home/ubuntu/xvdf1/tacotron2_markornot/soojin/Project_Classification_Big3_Ent_Idols_Face/crop/BTSV/87.k-pop-boy-band-bts-member-v-whose-real-name-is-kim-tae-hyung-plays-hong-han-sung-in-kbs-2tvs-hwarang-the-poet-warrior-youth.jpg\n",
      "No face detected: /home/ubuntu/xvdf1/tacotron2_markornot/soojin/Project_Classification_Big3_Ent_Idols_Face/crop/BTSV/76.be9df661be1b4b6db1d0cdcadf08e571.jpeg\n",
      "Face detected:    /home/ubuntu/xvdf1/tacotron2_markornot/soojin/Project_Classification_Big3_Ent_Idols_Face/crop/BTSV/17.19a475f1-9f74-4241-bf98-0869b9944432.jpg\n",
      "No face detected: /home/ubuntu/xvdf1/tacotron2_markornot/soojin/Project_Classification_Big3_Ent_Idols_Face/crop/BTSV/13.BTS-V.jpg\n",
      "Face detected:    /home/ubuntu/xvdf1/tacotron2_markornot/soojin/Project_Classification_Big3_Ent_Idols_Face/crop/BTSV/25.V_headband_white_e1745d2e-fd64-4b96-8764-72a4731582c0_grande.jpg\n",
      "Face detected:    /home/ubuntu/xvdf1/tacotron2_markornot/soojin/Project_Classification_Big3_Ent_Idols_Face/crop/BTSV/80.BTS-V-Famous-STAR.jpg\n",
      "Face detected:    /home/ubuntu/xvdf1/tacotron2_markornot/soojin/Project_Classification_Big3_Ent_Idols_Face/crop/BTSV/43.c4abe346-d52e-4228-b172-84dd22c1fabe-bts-v.jpg\n",
      "No face detected: /home/ubuntu/xvdf1/tacotron2_markornot/soojin/Project_Classification_Big3_Ent_Idols_Face/crop/BTSV/54.Kpop-BTS-V-Spring-autumn-warm-Black-white-long-sleeves-women-hoodies-korean-cotton-Harajuku-hooded-416x416.jpg\n",
      "No face detected: /home/ubuntu/xvdf1/tacotron2_markornot/soojin/Project_Classification_Big3_Ent_Idols_Face/crop/BTSV/79.maxresdefault.jpg\n",
      "Face detected:    /home/ubuntu/xvdf1/tacotron2_markornot/soojin/Project_Classification_Big3_Ent_Idols_Face/crop/BTSV/67.CMS_1450_.jpeg\n",
      "No face detected: /home/ubuntu/xvdf1/tacotron2_markornot/soojin/Project_Classification_Big3_Ent_Idols_Face/crop/BTSV/32.bts-v.jpg\n",
      "Face detected:    /home/ubuntu/xvdf1/tacotron2_markornot/soojin/Project_Classification_Big3_Ent_Idols_Face/crop/BTSV/8.1567511126-edhvuf9uuaajhc3.jpg\n",
      "No face detected: /home/ubuntu/xvdf1/tacotron2_markornot/soojin/Project_Classification_Big3_Ent_Idols_Face/crop/BTSV/39.bts-v-13.jpg\n",
      "Face detected:    /home/ubuntu/xvdf1/tacotron2_markornot/soojin/Project_Classification_Big3_Ent_Idols_Face/crop/BTSV/71.400b1deb13bc5970394ac3858c4d4397.jpg\n",
      "No face detected: /home/ubuntu/xvdf1/tacotron2_markornot/soojin/Project_Classification_Big3_Ent_Idols_Face/crop/BTSV/83.170px-V_%28Kim_Tae-hyung%29_at_The_Mood_For_Love_Concert_in_Kobe_in_March_2016_03.jpg\n",
      "Face detected:    /home/ubuntu/xvdf1/tacotron2_markornot/soojin/Project_Classification_Big3_Ent_Idols_Face/crop/BTSV/60.1-Kim-Taehyung-b.jpg\n",
      "Face detected:    /home/ubuntu/xvdf1/tacotron2_markornot/soojin/Project_Classification_Big3_Ent_Idols_Face/crop/BTSV/68.large.jpg\n",
      "No face detected: /home/ubuntu/xvdf1/tacotron2_markornot/soojin/Project_Classification_Big3_Ent_Idols_Face/crop/BTSV/57.V-2-534x800.jpg\n",
      "Face detected:    /home/ubuntu/xvdf1/tacotron2_markornot/soojin/Project_Classification_Big3_Ent_Idols_Face/crop/BTSV/9.people-are-defending-v-of-bts-after-the-idol-pretended-to-take-videos-of-his-fans-at-the-airport-photo-by-kpop-news-youtube.jpg\n",
      "No face detected: /home/ubuntu/xvdf1/tacotron2_markornot/soojin/Project_Classification_Big3_Ent_Idols_Face/crop/BTSV/3.maxresdefault.jpg\n",
      "Face detected:    /home/ubuntu/xvdf1/tacotron2_markornot/soojin/Project_Classification_Big3_Ent_Idols_Face/crop/BTSV/86.v-bts.jpg\n",
      "No face detected: /home/ubuntu/xvdf1/tacotron2_markornot/soojin/Project_Classification_Big3_Ent_Idols_Face/crop/BTSV/72.BTS-V-weverse.jpg\n",
      "Face detected:    /home/ubuntu/xvdf1/tacotron2_markornot/soojin/Project_Classification_Big3_Ent_Idols_Face/crop/BTSV/73.bts-v.jpg\n",
      "No face detected: /home/ubuntu/xvdf1/tacotron2_markornot/soojin/Project_Classification_Big3_Ent_Idols_Face/crop/BTSV/75.D2e6IT1U0AAcZWX.jpg\n",
      "Face detected:    /home/ubuntu/xvdf1/tacotron2_markornot/soojin/Project_Classification_Big3_Ent_Idols_Face/crop/BTSV/85.7be689fb3aab53849067dbbda182f920.jpg\n",
      "Face detected:    /home/ubuntu/xvdf1/tacotron2_markornot/soojin/Project_Classification_Big3_Ent_Idols_Face/crop/BTSV/49.upload_1547915819594.jpg\n",
      "Face detected:    /home/ubuntu/xvdf1/tacotron2_markornot/soojin/Project_Classification_Big3_Ent_Idols_Face/crop/BTSV/69.b4e9b0b068af78adf71b6bbe25a016c611240d35r1-1244-1315v2_hq.jpg\n",
      "No face detected: /home/ubuntu/xvdf1/tacotron2_markornot/soojin/Project_Classification_Big3_Ent_Idols_Face/crop/BTSV/26.1561112616_217993_1561115098_noticia_normal.jpg\n",
      "Face detected:    /home/ubuntu/xvdf1/tacotron2_markornot/soojin/Project_Classification_Big3_Ent_Idols_Face/crop/BTSV/84.BTS-V-3-1.jpg\n",
      "Face detected:    /home/ubuntu/xvdf1/tacotron2_markornot/soojin/Project_Classification_Big3_Ent_Idols_Face/crop/BTSV/37.8251f914465a1f866516cca47a898e6e9688575cr1-646-571v2_uhq.jpg\n",
      "No face detected: /home/ubuntu/xvdf1/tacotron2_markornot/soojin/Project_Classification_Big3_Ent_Idols_Face/crop/BTSV/18.D5dhPIUW0AU4NSE.jpg\n",
      "87 input files, 48 faces cropped, 39 rejected\n"
     ]
    }
   ],
   "source": [
    "!autocrop -i ./downloads/BTSV/ -o crop/BTSV  -r downloads/BTSV -w 96 -H 96 --facePercent 80"
   ]
  },
  {
   "cell_type": "markdown",
   "metadata": {},
   "source": [
    "## 1. autocrop 사용방법"
   ]
  },
  {
   "cell_type": "markdown",
   "metadata": {},
   "source": [
    "autocrop 사용방법은 매우 간단하다.  \n",
    "- -i 뒤에 input 폴더의 경로\n",
    "- -o 뒤에 ouput 폴더의 경로\n",
    "- -w와 -H 뒤에 결과 이미지의 사이즈\n",
    "- --facePercent에 사진에서 얼굴이 차지하는 비중  \n",
    "\n",
    "위와 같은 내용 등을 아래처럼 지정해준다 (더 자세한 내용은 [autocrop github repository](https://github.com/leblancfg/autocrop) 참조)"
   ]
  },
  {
   "cell_type": "code",
   "execution_count": 45,
   "metadata": {},
   "outputs": [
    {
     "name": "stdout",
     "output_type": "stream",
     "text": [
      "Processing images in folder: /Users/hyeshinoh/Google 드라이브/project_3대기획사_분류/downloads/SM_여/크리스탈\n",
      " 49 files have been cropped\n"
     ]
    }
   ],
   "source": [
    "!autocrop -i ./downloads/SM_여/크리스탈/ -o crop/SM_여/크리스탈 -w 96 -H 96 --facePercent 80"
   ]
  },
  {
   "cell_type": "markdown",
   "metadata": {},
   "source": [
    "## 2. autocrop 여러 폴더에 한번에 적용하기"
   ]
  },
  {
   "cell_type": "markdown",
   "metadata": {},
   "source": [
    "- autocrop 명령어를 사용해서 자동으로 얼굴을 잘라낸 후 직접 결과 사진을 확인해야 함\n",
    "    - 얼굴인식이 되지 않아 사진이 잘리지 않거나 얼굴이 아닌 부분이 잘리는 경우가 있음\n",
    "- 얼굴 crop이 잘 되지 않은 사진은 다음과 같은 조치를 취해줌\n",
    "    - 전신이 들어가고 배경이 너무 현란한 사진은 얼굴 위주로 사진을 적당히 잘라준다\n",
    "    - 정면 얼굴이더라도 기울어져있는 얼굴은 인식이 잘 되지 않으므로 사진의 각도를 조절해준다\n",
    "    - 수정된 사진으로 다시 autocrop을 실시한다"
   ]
  },
  {
   "cell_type": "markdown",
   "metadata": {},
   "source": [
    "### 2.1 autocrop 일괄 적용 방법\n",
    "- 여러 명의 사진 폴더에 대해 autocrop shell 명령어를 반복문으로 실행해야 한다"
   ]
  },
  {
   "cell_type": "markdown",
   "metadata": {},
   "source": [
    "크롤링한 사진을 저장해 둔 폴더 구조는 다음과 같이 되어 있다."
   ]
  },
  {
   "cell_type": "code",
   "execution_count": 13,
   "metadata": {},
   "outputs": [
    {
     "name": "stdout",
     "output_type": "stream",
     "text": [
      "/bin/sh: ./downloads/SM_여/보아/: is a directory\n"
     ]
    }
   ],
   "source": [
    "!./downloads/SM_여/보아/"
   ]
  },
  {
   "cell_type": "markdown",
   "metadata": {},
   "source": [
    "`!eval`을 이용해 shell command를 반복문에 넣어 실행하기로 한다"
   ]
  },
  {
   "cell_type": "code",
   "execution_count": 9,
   "metadata": {},
   "outputs": [
    {
     "name": "stdout",
     "output_type": "stream",
     "text": [
      "Processing images in folder: /Users/hyeshinoh/Google 드라이브/project_3대기획사_분류/downloads/SM_여/보아\n",
      "No faces can be detected in 보아_023.jpg.\n",
      "No faces can be detected in 보아_013.jpg.\n",
      "No faces can be detected in 보아_012.jpg.\n",
      " 33 files have been cropped\n"
     ]
    }
   ],
   "source": [
    "!eval \"autocrop -i ./downloads/SM_여/보아/ -o crop/SM_여/보아 -w 96 -H 96 --facePercent 80\""
   ]
  },
  {
   "cell_type": "markdown",
   "metadata": {},
   "source": [
    "#### 1) glob을 이용해 다음과 같이 개인별 폴더의 리스트를 받아옴"
   ]
  },
  {
   "cell_type": "code",
   "execution_count": 3,
   "metadata": {},
   "outputs": [
    {
     "data": {
      "text/plain": [
       "['./downloads/SM_여/티파니',\n",
       " './downloads/SM_여/천무스테파니',\n",
       " './downloads/SM_여/상미린아',\n",
       " './downloads/SM_여/효연',\n",
       " './downloads/SM_여/유진',\n",
       " './downloads/SM_여/태연',\n",
       " './downloads/SM_여/윤아',\n",
       " './downloads/SM_여/설리',\n",
       " './downloads/SM_여/루나',\n",
       " './downloads/SM_여/제시카',\n",
       " './downloads/SM_여/웬디',\n",
       " './downloads/SM_여/다나',\n",
       " './downloads/SM_여/유리',\n",
       " './downloads/SM_여/슬기',\n",
       " './downloads/SM_여/빅토리아',\n",
       " './downloads/SM_여/조이',\n",
       " './downloads/SM_여/바다',\n",
       " './downloads/SM_여/슈',\n",
       " './downloads/SM_여/서현',\n",
       " './downloads/SM_여/수영',\n",
       " './downloads/SM_여/아이린',\n",
       " './downloads/SM_여/써니',\n",
       " './downloads/SM_여/예리',\n",
       " './downloads/SM_여/크리스탈',\n",
       " './downloads/SM_여/지성선데이',\n",
       " './downloads/SM_여/보아',\n",
       " './downloads/SM_여/엠버']"
      ]
     },
     "execution_count": 3,
     "metadata": {},
     "output_type": "execute_result"
    }
   ],
   "source": [
    "dir = glob.glob('./downloads/SM_여/*')\n",
    "dir"
   ]
  },
  {
   "cell_type": "markdown",
   "metadata": {},
   "source": [
    "#### 2) 개인마다 폴더의 사진에서 얼굴을 crop하고 crop폴더 내 개인 폴더에 저장"
   ]
  },
  {
   "cell_type": "code",
   "execution_count": 66,
   "metadata": {},
   "outputs": [],
   "source": [
    "def crop_face(folder):\n",
    "    for in_dir_name in tqdm(folder):\n",
    "        out_dir_name = in_dir_name.replace('./downloads/*', '')\n",
    "        !eval \"autocrop -i {in_dir_name} -o crop/{out_dir_name} -w 96 -H 96 --facePercent 90\""
   ]
  },
  {
   "cell_type": "markdown",
   "metadata": {},
   "source": [
    "### 2.2 SM 여자 아이돌 사진 얼굴 자르기"
   ]
  },
  {
   "cell_type": "code",
   "execution_count": 69,
   "metadata": {},
   "outputs": [
    {
     "name": "stdout",
     "output_type": "stream",
     "text": [
      "['./downloads/BTS V', './downloads/jeonggug', './downloads/BTS Jeongguk', './downloads/bwi', './downloads/Bigbang TOP', './downloads/coeseunghyeon']\n"
     ]
    }
   ],
   "source": [
    "sm_m_dir = glob.glob('./downloads/*')\n",
    "len(sm_m_dir)\n",
    "print(sm_m_dir)"
   ]
  },
  {
   "cell_type": "code",
   "execution_count": 67,
   "metadata": {},
   "outputs": [
    {
     "name": "stderr",
     "output_type": "stream",
     "text": [
      "\r",
      "  0%|          | 0/6 [00:00<?, ?it/s]"
     ]
    },
    {
     "name": "stdout",
     "output_type": "stream",
     "text": [
      "usage: autocrop [-h] [-i INPUT] [-o OUTPUT] [-r REJECT] [-w WIDTH] [-H HEIGHT]\r\n",
      "                [-v] [--no-confirm] [--padUp PADUP] [--padDown PADDOWN]\r\n",
      "                [--padLeft PADLEFT] [--padRight PADRIGHT]\r\n",
      "                [--facePercent FACEPERCENT]\r\n",
      "autocrop: error: argument -i/--input: Input folder does not exist\r\n"
     ]
    },
    {
     "name": "stderr",
     "output_type": "stream",
     "text": [
      "\r",
      " 17%|█▋        | 1/6 [00:00<00:02,  1.81it/s]"
     ]
    },
    {
     "name": "stdout",
     "output_type": "stream",
     "text": [
      "usage: autocrop [-h] [-i INPUT] [-o OUTPUT] [-r REJECT] [-w WIDTH] [-H HEIGHT]\r\n",
      "                [-v] [--no-confirm] [--padUp PADUP] [--padDown PADDOWN]\r\n",
      "                [--padLeft PADLEFT] [--padRight PADRIGHT]\r\n",
      "                [--facePercent FACEPERCENT]\r\n",
      "autocrop: error: argument -i/--input: Input folder does not contain any image files\r\n"
     ]
    },
    {
     "name": "stderr",
     "output_type": "stream",
     "text": [
      "\r",
      " 33%|███▎      | 2/6 [00:01<00:02,  1.84it/s]"
     ]
    },
    {
     "name": "stdout",
     "output_type": "stream",
     "text": [
      "usage: autocrop [-h] [-i INPUT] [-o OUTPUT] [-r REJECT] [-w WIDTH] [-H HEIGHT]\r\n",
      "                [-v] [--no-confirm] [--padUp PADUP] [--padDown PADDOWN]\r\n",
      "                [--padLeft PADLEFT] [--padRight PADRIGHT]\r\n",
      "                [--facePercent FACEPERCENT]\r\n",
      "autocrop: error: argument -i/--input: Input folder does not exist\r\n"
     ]
    },
    {
     "name": "stderr",
     "output_type": "stream",
     "text": [
      "\r",
      " 50%|█████     | 3/6 [00:01<00:01,  1.85it/s]"
     ]
    },
    {
     "name": "stdout",
     "output_type": "stream",
     "text": [
      "usage: autocrop [-h] [-i INPUT] [-o OUTPUT] [-r REJECT] [-w WIDTH] [-H HEIGHT]\r\n",
      "                [-v] [--no-confirm] [--padUp PADUP] [--padDown PADDOWN]\r\n",
      "                [--padLeft PADLEFT] [--padRight PADRIGHT]\r\n",
      "                [--facePercent FACEPERCENT]\r\n",
      "autocrop: error: argument -i/--input: Input folder does not contain any image files\r\n"
     ]
    },
    {
     "name": "stderr",
     "output_type": "stream",
     "text": [
      "\r",
      " 67%|██████▋   | 4/6 [00:02<00:01,  1.86it/s]"
     ]
    },
    {
     "name": "stdout",
     "output_type": "stream",
     "text": [
      "usage: autocrop [-h] [-i INPUT] [-o OUTPUT] [-r REJECT] [-w WIDTH] [-H HEIGHT]\r\n",
      "                [-v] [--no-confirm] [--padUp PADUP] [--padDown PADDOWN]\r\n",
      "                [--padLeft PADLEFT] [--padRight PADRIGHT]\r\n",
      "                [--facePercent FACEPERCENT]\r\n",
      "autocrop: error: argument -i/--input: Input folder does not exist\r\n"
     ]
    },
    {
     "name": "stderr",
     "output_type": "stream",
     "text": [
      "\r",
      " 83%|████████▎ | 5/6 [00:02<00:00,  1.86it/s]"
     ]
    },
    {
     "name": "stdout",
     "output_type": "stream",
     "text": [
      "usage: autocrop [-h] [-i INPUT] [-o OUTPUT] [-r REJECT] [-w WIDTH] [-H HEIGHT]\r\n",
      "                [-v] [--no-confirm] [--padUp PADUP] [--padDown PADDOWN]\r\n",
      "                [--padLeft PADLEFT] [--padRight PADRIGHT]\r\n",
      "                [--facePercent FACEPERCENT]\r\n",
      "autocrop: error: argument -i/--input: Input folder does not contain any image files\r\n"
     ]
    },
    {
     "name": "stderr",
     "output_type": "stream",
     "text": [
      "100%|██████████| 6/6 [00:03<00:00,  1.82it/s]\n"
     ]
    }
   ],
   "source": [
    "crop_face(sm_m_dir)"
   ]
  },
  {
   "cell_type": "markdown",
   "metadata": {},
   "source": [
    "### 2.3 JYP 여자 아이돌 사진 얼굴 자르기"
   ]
  },
  {
   "cell_type": "code",
   "execution_count": 8,
   "metadata": {},
   "outputs": [
    {
     "data": {
      "text/plain": [
       "21"
      ]
     },
     "execution_count": 8,
     "metadata": {},
     "output_type": "execute_result"
    }
   ],
   "source": [
    "jyp_w_dir = glob.glob('./downloads/JYP_여/*')\n",
    "len(jyp_w_dir)"
   ]
  },
  {
   "cell_type": "code",
   "execution_count": 9,
   "metadata": {},
   "outputs": [
    {
     "name": "stderr",
     "output_type": "stream",
     "text": [
      "  0%|          | 0/21 [00:00<?, ?it/s]"
     ]
    },
    {
     "name": "stdout",
     "output_type": "stream",
     "text": [
      "Processing images in folder: /Users/hyeshinoh/Workspace/Project_Classification_Big3_Ent_Idols_Face/downloads/JYP_여/현아\n",
      " 40 files have been cropped\n"
     ]
    },
    {
     "name": "stderr",
     "output_type": "stream",
     "text": [
      "  5%|▍         | 1/21 [00:02<00:42,  2.11s/it]"
     ]
    },
    {
     "name": "stdout",
     "output_type": "stream",
     "text": [
      "Processing images in folder: /Users/hyeshinoh/Workspace/Project_Classification_Big3_Ent_Idols_Face/downloads/JYP_여/채영\n",
      " 48 files have been cropped\n"
     ]
    },
    {
     "name": "stderr",
     "output_type": "stream",
     "text": [
      " 10%|▉         | 2/21 [00:05<00:49,  2.58s/it]"
     ]
    },
    {
     "name": "stdout",
     "output_type": "stream",
     "text": [
      "Processing images in folder: /Users/hyeshinoh/Workspace/Project_Classification_Big3_Ent_Idols_Face/downloads/JYP_여/선예\n",
      " 28 files have been cropped\n"
     ]
    },
    {
     "name": "stderr",
     "output_type": "stream",
     "text": [
      " 14%|█▍        | 3/21 [00:06<00:40,  2.23s/it]"
     ]
    },
    {
     "name": "stdout",
     "output_type": "stream",
     "text": [
      "Processing images in folder: /Users/hyeshinoh/Workspace/Project_Classification_Big3_Ent_Idols_Face/downloads/JYP_여/정연\n",
      "No faces can be detected in 68. 106773_130260_4537.jpg.\n",
      " 36 files have been cropped\n"
     ]
    },
    {
     "name": "stderr",
     "output_type": "stream",
     "text": [
      " 19%|█▉        | 4/21 [00:09<00:38,  2.26s/it]"
     ]
    },
    {
     "name": "stdout",
     "output_type": "stream",
     "text": [
      "Processing images in folder: /Users/hyeshinoh/Workspace/Project_Classification_Big3_Ent_Idols_Face/downloads/JYP_여/혜림\n",
      " 44 files have been cropped\n"
     ]
    },
    {
     "name": "stderr",
     "output_type": "stream",
     "text": [
      " 24%|██▍       | 5/21 [00:11<00:37,  2.37s/it]"
     ]
    },
    {
     "name": "stdout",
     "output_type": "stream",
     "text": [
      "Processing images in folder: /Users/hyeshinoh/Workspace/Project_Classification_Big3_Ent_Idols_Face/downloads/JYP_여/사나\n",
      " 30 files have been cropped\n"
     ]
    },
    {
     "name": "stderr",
     "output_type": "stream",
     "text": [
      " 29%|██▊       | 6/21 [00:13<00:34,  2.31s/it]"
     ]
    },
    {
     "name": "stdout",
     "output_type": "stream",
     "text": [
      "Processing images in folder: /Users/hyeshinoh/Workspace/Project_Classification_Big3_Ent_Idols_Face/downloads/JYP_여/선미\n",
      " 43 files have been cropped\n"
     ]
    },
    {
     "name": "stderr",
     "output_type": "stream",
     "text": [
      " 33%|███▎      | 7/21 [00:16<00:32,  2.35s/it]"
     ]
    },
    {
     "name": "stdout",
     "output_type": "stream",
     "text": [
      "Processing images in folder: /Users/hyeshinoh/Workspace/Project_Classification_Big3_Ent_Idols_Face/downloads/JYP_여/민\n",
      " 14 files have been cropped\n"
     ]
    },
    {
     "name": "stderr",
     "output_type": "stream",
     "text": [
      " 38%|███▊      | 8/21 [00:17<00:28,  2.20s/it]"
     ]
    },
    {
     "name": "stdout",
     "output_type": "stream",
     "text": [
      "Processing images in folder: /Users/hyeshinoh/Workspace/Project_Classification_Big3_Ent_Idols_Face/downloads/JYP_여/예은\n",
      " 28 files have been cropped\n"
     ]
    },
    {
     "name": "stderr",
     "output_type": "stream",
     "text": [
      " 43%|████▎     | 9/21 [00:19<00:25,  2.16s/it]"
     ]
    },
    {
     "name": "stdout",
     "output_type": "stream",
     "text": [
      "Processing images in folder: /Users/hyeshinoh/Workspace/Project_Classification_Big3_Ent_Idols_Face/downloads/JYP_여/소희\n",
      "No faces can be detected in 14. a1cda27761354ef5a4306a6eb6b0fb33.jpg.jpg.\n",
      " 34 files have been cropped\n"
     ]
    },
    {
     "name": "stderr",
     "output_type": "stream",
     "text": [
      " 48%|████▊     | 10/21 [00:21<00:23,  2.16s/it]"
     ]
    },
    {
     "name": "stdout",
     "output_type": "stream",
     "text": [
      "Processing images in folder: /Users/hyeshinoh/Workspace/Project_Classification_Big3_Ent_Idols_Face/downloads/JYP_여/페이\n",
      " 32 files have been cropped\n"
     ]
    },
    {
     "name": "stderr",
     "output_type": "stream",
     "text": [
      " 52%|█████▏    | 11/21 [00:23<00:21,  2.13s/it]"
     ]
    },
    {
     "name": "stdout",
     "output_type": "stream",
     "text": [
      "Processing images in folder: /Users/hyeshinoh/Workspace/Project_Classification_Big3_Ent_Idols_Face/downloads/JYP_여/다현\n",
      " 44 files have been cropped\n"
     ]
    },
    {
     "name": "stderr",
     "output_type": "stream",
     "text": [
      " 57%|█████▋    | 12/21 [00:26<00:19,  2.19s/it]"
     ]
    },
    {
     "name": "stdout",
     "output_type": "stream",
     "text": [
      "Processing images in folder: /Users/hyeshinoh/Workspace/Project_Classification_Big3_Ent_Idols_Face/downloads/JYP_여/수지\n",
      " 49 files have been cropped\n"
     ]
    },
    {
     "name": "stderr",
     "output_type": "stream",
     "text": [
      " 62%|██████▏   | 13/21 [00:29<00:17,  2.24s/it]"
     ]
    },
    {
     "name": "stdout",
     "output_type": "stream",
     "text": [
      "Processing images in folder: /Users/hyeshinoh/Workspace/Project_Classification_Big3_Ent_Idols_Face/downloads/JYP_여/유빈\n",
      " 31 files have been cropped\n"
     ]
    },
    {
     "name": "stderr",
     "output_type": "stream",
     "text": [
      " 67%|██████▋   | 14/21 [00:30<00:15,  2.21s/it]"
     ]
    },
    {
     "name": "stdout",
     "output_type": "stream",
     "text": [
      "Processing images in folder: /Users/hyeshinoh/Workspace/Project_Classification_Big3_Ent_Idols_Face/downloads/JYP_여/쯔위\n",
      " 53 files have been cropped\n"
     ]
    },
    {
     "name": "stderr",
     "output_type": "stream",
     "text": [
      " 71%|███████▏  | 15/21 [00:34<00:13,  2.27s/it]"
     ]
    },
    {
     "name": "stdout",
     "output_type": "stream",
     "text": [
      "Processing images in folder: /Users/hyeshinoh/Workspace/Project_Classification_Big3_Ent_Idols_Face/downloads/JYP_여/나연\n",
      " 38 files have been cropped\n"
     ]
    },
    {
     "name": "stderr",
     "output_type": "stream",
     "text": [
      " 76%|███████▌  | 16/21 [00:36<00:11,  2.28s/it]"
     ]
    },
    {
     "name": "stdout",
     "output_type": "stream",
     "text": [
      "Processing images in folder: /Users/hyeshinoh/Workspace/Project_Classification_Big3_Ent_Idols_Face/downloads/JYP_여/전소미\n",
      " 29 files have been cropped\n"
     ]
    },
    {
     "name": "stderr",
     "output_type": "stream",
     "text": [
      " 81%|████████  | 17/21 [00:38<00:09,  2.28s/it]"
     ]
    },
    {
     "name": "stdout",
     "output_type": "stream",
     "text": [
      "Processing images in folder: /Users/hyeshinoh/Workspace/Project_Classification_Big3_Ent_Idols_Face/downloads/JYP_여/모모\n",
      " 26 files have been cropped\n"
     ]
    },
    {
     "name": "stderr",
     "output_type": "stream",
     "text": [
      " 86%|████████▌ | 18/21 [00:40<00:06,  2.25s/it]"
     ]
    },
    {
     "name": "stdout",
     "output_type": "stream",
     "text": [
      "Processing images in folder: /Users/hyeshinoh/Workspace/Project_Classification_Big3_Ent_Idols_Face/downloads/JYP_여/지아\n",
      " 17 files have been cropped\n"
     ]
    },
    {
     "name": "stderr",
     "output_type": "stream",
     "text": [
      " 90%|█████████ | 19/21 [00:41<00:04,  2.20s/it]"
     ]
    },
    {
     "name": "stdout",
     "output_type": "stream",
     "text": [
      "Processing images in folder: /Users/hyeshinoh/Workspace/Project_Classification_Big3_Ent_Idols_Face/downloads/JYP_여/미나\n",
      " 26 files have been cropped\n"
     ]
    },
    {
     "name": "stderr",
     "output_type": "stream",
     "text": [
      " 95%|█████████▌| 20/21 [00:43<00:02,  2.16s/it]"
     ]
    },
    {
     "name": "stdout",
     "output_type": "stream",
     "text": [
      "Processing images in folder: /Users/hyeshinoh/Workspace/Project_Classification_Big3_Ent_Idols_Face/downloads/JYP_여/지효\n",
      " 41 files have been cropped\n"
     ]
    },
    {
     "name": "stderr",
     "output_type": "stream",
     "text": [
      "100%|██████████| 21/21 [00:45<00:00,  2.19s/it]\n"
     ]
    }
   ],
   "source": [
    "crop_face(jyp_w_dir)"
   ]
  },
  {
   "cell_type": "markdown",
   "metadata": {},
   "source": [
    "### 2.4 YG 여자 아이돌 사진 얼굴 자르기"
   ]
  },
  {
   "cell_type": "code",
   "execution_count": 10,
   "metadata": {},
   "outputs": [
    {
     "data": {
      "text/plain": [
       "8"
      ]
     },
     "execution_count": 10,
     "metadata": {},
     "output_type": "execute_result"
    }
   ],
   "source": [
    "yg_w_dir = glob.glob('./downloads/YG_여/*')\n",
    "len(yg_w_dir)"
   ]
  },
  {
   "cell_type": "code",
   "execution_count": 11,
   "metadata": {},
   "outputs": [
    {
     "name": "stderr",
     "output_type": "stream",
     "text": [
      "  0%|          | 0/8 [00:00<?, ?it/s]"
     ]
    },
    {
     "name": "stdout",
     "output_type": "stream",
     "text": [
      "Processing images in folder: /Users/hyeshinoh/Workspace/Project_Classification_Big3_Ent_Idols_Face/downloads/YG_여/박봄\n",
      " 39 files have been cropped\n"
     ]
    },
    {
     "name": "stderr",
     "output_type": "stream",
     "text": [
      " 12%|█▎        | 1/8 [00:02<00:15,  2.27s/it]"
     ]
    },
    {
     "name": "stdout",
     "output_type": "stream",
     "text": [
      "Processing images in folder: /Users/hyeshinoh/Workspace/Project_Classification_Big3_Ent_Idols_Face/downloads/YG_여/지수\n",
      " 37 files have been cropped\n"
     ]
    },
    {
     "name": "stderr",
     "output_type": "stream",
     "text": [
      " 25%|██▌       | 2/8 [00:04<00:13,  2.31s/it]"
     ]
    },
    {
     "name": "stdout",
     "output_type": "stream",
     "text": [
      "Processing images in folder: /Users/hyeshinoh/Workspace/Project_Classification_Big3_Ent_Idols_Face/downloads/YG_여/로제\n",
      " 40 files have been cropped\n"
     ]
    },
    {
     "name": "stderr",
     "output_type": "stream",
     "text": [
      " 38%|███▊      | 3/8 [00:06<00:11,  2.23s/it]"
     ]
    },
    {
     "name": "stdout",
     "output_type": "stream",
     "text": [
      "Processing images in folder: /Users/hyeshinoh/Workspace/Project_Classification_Big3_Ent_Idols_Face/downloads/YG_여/제니\n",
      " 39 files have been cropped\n"
     ]
    },
    {
     "name": "stderr",
     "output_type": "stream",
     "text": [
      " 50%|█████     | 4/8 [00:08<00:08,  2.18s/it]"
     ]
    },
    {
     "name": "stdout",
     "output_type": "stream",
     "text": [
      "Processing images in folder: /Users/hyeshinoh/Workspace/Project_Classification_Big3_Ent_Idols_Face/downloads/YG_여/씨엘\n",
      " 42 files have been cropped\n"
     ]
    },
    {
     "name": "stderr",
     "output_type": "stream",
     "text": [
      " 62%|██████▎   | 5/8 [00:11<00:06,  2.20s/it]"
     ]
    },
    {
     "name": "stdout",
     "output_type": "stream",
     "text": [
      "Processing images in folder: /Users/hyeshinoh/Workspace/Project_Classification_Big3_Ent_Idols_Face/downloads/YG_여/산다라박\n",
      " 50 files have been cropped\n"
     ]
    },
    {
     "name": "stderr",
     "output_type": "stream",
     "text": [
      " 75%|███████▌  | 6/8 [00:13<00:04,  2.32s/it]"
     ]
    },
    {
     "name": "stdout",
     "output_type": "stream",
     "text": [
      "Processing images in folder: /Users/hyeshinoh/Workspace/Project_Classification_Big3_Ent_Idols_Face/downloads/YG_여/공민지\n",
      "No faces can be detected in 98. 25385_29621_2926.jpg.\n",
      " 39 files have been cropped\n"
     ]
    },
    {
     "name": "stderr",
     "output_type": "stream",
     "text": [
      " 88%|████████▊ | 7/8 [00:16<00:02,  2.30s/it]"
     ]
    },
    {
     "name": "stdout",
     "output_type": "stream",
     "text": [
      "Processing images in folder: /Users/hyeshinoh/Workspace/Project_Classification_Big3_Ent_Idols_Face/downloads/YG_여/리사\n",
      "No faces can be detected in 61. c-vtod-uqaaylsb.jpg.\n",
      " 35 files have been cropped\n"
     ]
    },
    {
     "name": "stderr",
     "output_type": "stream",
     "text": [
      "100%|██████████| 8/8 [00:17<00:00,  2.23s/it]\n"
     ]
    }
   ],
   "source": [
    "crop_face(yg_w_dir)"
   ]
  },
  {
   "cell_type": "markdown",
   "metadata": {},
   "source": [
    "## 3. 이미지 크기 96*96으로 통일하기\n",
    "- 얼굴인식이 되지 않은 경우 사이즈가 조절이 되어 있지 않을 수 있으므로 이미지의 사이즈를 체크\n",
    "- 이미지의 사이즈가 다를 경우 96*96으로 사이즈 조정"
   ]
  },
  {
   "cell_type": "markdown",
   "metadata": {},
   "source": [
    "소속사별 남/녀 아이돌 멤버 이름 리스트로 받기"
   ]
  },
  {
   "cell_type": "code",
   "execution_count": 54,
   "metadata": {},
   "outputs": [],
   "source": [
    "def get_idol_list(company, gender):\n",
    "    df = pd.read_csv(\"{}.csv\".format(company), encoding='utf-8')\n",
    "    names = df[df[\"성별\"]==gender][\"멤버\"].tolist()\n",
    "    names = [x.split(',') for x in names]\n",
    "    names = [item for sublist in names for item in sublist]\n",
    "    names = [x.strip() for x in names]\n",
    "    names = [\"{}_{}\".format(company.upper(), x) for x in names]\n",
    "    print(\"{} 소속 {}자 가수: {}명\".format(company.upper(), gender, len(names)))\n",
    "    return names"
   ]
  },
  {
   "cell_type": "markdown",
   "metadata": {},
   "source": [
    "사이즈가 96*96이 아닌 이미지파일 이름 리스트로 받기"
   ]
  },
  {
   "cell_type": "code",
   "execution_count": 41,
   "metadata": {},
   "outputs": [],
   "source": [
    "def transliterate(string):\n",
    "    \"\"\"Transliterates string into his closest representation.\n",
    "    Ex: 1. àé => ae,\n",
    "        2. สวัสดีครับ => swasdiikhrab.\n",
    "    :param string: string\n",
    "    :return: closest string.\n",
    "    \"\"\"\n",
    "    from unidecode import unidecode\n",
    "\n",
    "    if not isinstance(string, bytes):\n",
    "        string = u''.join(string)\n",
    "        \n",
    "    return unidecode(string)\n",
    "def find_wrong_size(names):\n",
    "                     \n",
    "    \n",
    "    wrongsize = []\n",
    "    for name in tqdm(names):\n",
    "        name = transliterate(name)\n",
    "        img_list = glob.glob('./crop/{}_여/{}/*'.format(name.split(\"_\")[0], name.split(\"_\")[1]))\n",
    "        for img in img_list:\n",
    "            img = transliterate(img)\n",
    "            imgfile = cv2.imread(str(img))\n",
    "            if imgfile.shape != (96, 96, 3):\n",
    "                wrongsize.append(img)\n",
    "    return wrongsize"
   ]
  },
  {
   "cell_type": "markdown",
   "metadata": {},
   "source": [
    "### 3.1 SM 여자 아이돌 crop 이미지 사이즈 체크"
   ]
  },
  {
   "cell_type": "code",
   "execution_count": 42,
   "metadata": {},
   "outputs": [
    {
     "name": "stdout",
     "output_type": "stream",
     "text": [
      "SM 소속 남자 가수: 3명\n"
     ]
    }
   ],
   "source": [
    "import pandas as pd\n",
    "sm_m_names = get_idol_list('sm', '남')"
   ]
  },
  {
   "cell_type": "code",
   "execution_count": 43,
   "metadata": {},
   "outputs": [
    {
     "name": "stderr",
     "output_type": "stream",
     "text": [
      "  0%|          | 0/3 [00:00<?, ?it/s]\n"
     ]
    },
    {
     "ename": "UnicodeEncodeError",
     "evalue": "'ascii' codec can't encode character '\\uc5ec' in position 10: ordinal not in range(128)",
     "output_type": "error",
     "traceback": [
      "\u001b[0;31m---------------------------------------------------------------------------\u001b[0m",
      "\u001b[0;31mUnicodeEncodeError\u001b[0m                        Traceback (most recent call last)",
      "\u001b[0;32m<ipython-input-43-2d5ea01242e2>\u001b[0m in \u001b[0;36m<module>\u001b[0;34m()\u001b[0m\n\u001b[0;32m----> 1\u001b[0;31m \u001b[0mwrongsize_sm\u001b[0m \u001b[0;34m=\u001b[0m \u001b[0mfind_wrong_size\u001b[0m\u001b[0;34m(\u001b[0m\u001b[0msm_m_names\u001b[0m\u001b[0;34m)\u001b[0m\u001b[0;34m\u001b[0m\u001b[0m\n\u001b[0m\u001b[1;32m      2\u001b[0m \u001b[0mwrongsize_sm\u001b[0m\u001b[0;34m\u001b[0m\u001b[0m\n",
      "\u001b[0;32m<ipython-input-41-5c11f2a339dd>\u001b[0m in \u001b[0;36mfind_wrong_size\u001b[0;34m(names)\u001b[0m\n\u001b[1;32m     18\u001b[0m     \u001b[0;32mfor\u001b[0m \u001b[0mname\u001b[0m \u001b[0;32min\u001b[0m \u001b[0mtqdm\u001b[0m\u001b[0;34m(\u001b[0m\u001b[0mnames\u001b[0m\u001b[0;34m)\u001b[0m\u001b[0;34m:\u001b[0m\u001b[0;34m\u001b[0m\u001b[0m\n\u001b[1;32m     19\u001b[0m         \u001b[0mname\u001b[0m \u001b[0;34m=\u001b[0m \u001b[0mtransliterate\u001b[0m\u001b[0;34m(\u001b[0m\u001b[0mname\u001b[0m\u001b[0;34m)\u001b[0m\u001b[0;34m\u001b[0m\u001b[0m\n\u001b[0;32m---> 20\u001b[0;31m         \u001b[0mimg_list\u001b[0m \u001b[0;34m=\u001b[0m \u001b[0mglob\u001b[0m\u001b[0;34m.\u001b[0m\u001b[0mglob\u001b[0m\u001b[0;34m(\u001b[0m\u001b[0;34m'./crop/{}_여/{}/*'\u001b[0m\u001b[0;34m.\u001b[0m\u001b[0mformat\u001b[0m\u001b[0;34m(\u001b[0m\u001b[0mname\u001b[0m\u001b[0;34m.\u001b[0m\u001b[0msplit\u001b[0m\u001b[0;34m(\u001b[0m\u001b[0;34m\"_\"\u001b[0m\u001b[0;34m)\u001b[0m\u001b[0;34m[\u001b[0m\u001b[0;36m0\u001b[0m\u001b[0;34m]\u001b[0m\u001b[0;34m,\u001b[0m \u001b[0mname\u001b[0m\u001b[0;34m.\u001b[0m\u001b[0msplit\u001b[0m\u001b[0;34m(\u001b[0m\u001b[0;34m\"_\"\u001b[0m\u001b[0;34m)\u001b[0m\u001b[0;34m[\u001b[0m\u001b[0;36m1\u001b[0m\u001b[0;34m]\u001b[0m\u001b[0;34m)\u001b[0m\u001b[0;34m)\u001b[0m\u001b[0;34m\u001b[0m\u001b[0m\n\u001b[0m\u001b[1;32m     21\u001b[0m         \u001b[0;32mfor\u001b[0m \u001b[0mimg\u001b[0m \u001b[0;32min\u001b[0m \u001b[0mimg_list\u001b[0m\u001b[0;34m:\u001b[0m\u001b[0;34m\u001b[0m\u001b[0m\n\u001b[1;32m     22\u001b[0m             \u001b[0mimg\u001b[0m \u001b[0;34m=\u001b[0m \u001b[0mtransliterate\u001b[0m\u001b[0;34m(\u001b[0m\u001b[0mimg\u001b[0m\u001b[0;34m)\u001b[0m\u001b[0;34m\u001b[0m\u001b[0m\n",
      "\u001b[0;32m~/anaconda3/lib/python3.6/glob.py\u001b[0m in \u001b[0;36mglob\u001b[0;34m(pathname, recursive)\u001b[0m\n\u001b[1;32m     18\u001b[0m     \u001b[0mzero\u001b[0m \u001b[0;32mor\u001b[0m \u001b[0mmore\u001b[0m \u001b[0mdirectories\u001b[0m \u001b[0;32mand\u001b[0m \u001b[0msubdirectories\u001b[0m\u001b[0;34m.\u001b[0m\u001b[0;34m\u001b[0m\u001b[0m\n\u001b[1;32m     19\u001b[0m     \"\"\"\n\u001b[0;32m---> 20\u001b[0;31m     \u001b[0;32mreturn\u001b[0m \u001b[0mlist\u001b[0m\u001b[0;34m(\u001b[0m\u001b[0miglob\u001b[0m\u001b[0;34m(\u001b[0m\u001b[0mpathname\u001b[0m\u001b[0;34m,\u001b[0m \u001b[0mrecursive\u001b[0m\u001b[0;34m=\u001b[0m\u001b[0mrecursive\u001b[0m\u001b[0;34m)\u001b[0m\u001b[0;34m)\u001b[0m\u001b[0;34m\u001b[0m\u001b[0m\n\u001b[0m\u001b[1;32m     21\u001b[0m \u001b[0;34m\u001b[0m\u001b[0m\n\u001b[1;32m     22\u001b[0m \u001b[0;32mdef\u001b[0m \u001b[0miglob\u001b[0m\u001b[0;34m(\u001b[0m\u001b[0mpathname\u001b[0m\u001b[0;34m,\u001b[0m \u001b[0;34m*\u001b[0m\u001b[0;34m,\u001b[0m \u001b[0mrecursive\u001b[0m\u001b[0;34m=\u001b[0m\u001b[0;32mFalse\u001b[0m\u001b[0;34m)\u001b[0m\u001b[0;34m:\u001b[0m\u001b[0;34m\u001b[0m\u001b[0m\n",
      "\u001b[0;32m~/anaconda3/lib/python3.6/glob.py\u001b[0m in \u001b[0;36m_iglob\u001b[0;34m(pathname, recursive, dironly)\u001b[0m\n\u001b[1;32m     70\u001b[0m         \u001b[0mglob_in_dir\u001b[0m \u001b[0;34m=\u001b[0m \u001b[0m_glob0\u001b[0m\u001b[0;34m\u001b[0m\u001b[0m\n\u001b[1;32m     71\u001b[0m     \u001b[0;32mfor\u001b[0m \u001b[0mdirname\u001b[0m \u001b[0;32min\u001b[0m \u001b[0mdirs\u001b[0m\u001b[0;34m:\u001b[0m\u001b[0;34m\u001b[0m\u001b[0m\n\u001b[0;32m---> 72\u001b[0;31m         \u001b[0;32mfor\u001b[0m \u001b[0mname\u001b[0m \u001b[0;32min\u001b[0m \u001b[0mglob_in_dir\u001b[0m\u001b[0;34m(\u001b[0m\u001b[0mdirname\u001b[0m\u001b[0;34m,\u001b[0m \u001b[0mbasename\u001b[0m\u001b[0;34m,\u001b[0m \u001b[0mdironly\u001b[0m\u001b[0;34m)\u001b[0m\u001b[0;34m:\u001b[0m\u001b[0;34m\u001b[0m\u001b[0m\n\u001b[0m\u001b[1;32m     73\u001b[0m             \u001b[0;32myield\u001b[0m \u001b[0mos\u001b[0m\u001b[0;34m.\u001b[0m\u001b[0mpath\u001b[0m\u001b[0;34m.\u001b[0m\u001b[0mjoin\u001b[0m\u001b[0;34m(\u001b[0m\u001b[0mdirname\u001b[0m\u001b[0;34m,\u001b[0m \u001b[0mname\u001b[0m\u001b[0;34m)\u001b[0m\u001b[0;34m\u001b[0m\u001b[0m\n\u001b[1;32m     74\u001b[0m \u001b[0;34m\u001b[0m\u001b[0m\n",
      "\u001b[0;32m~/anaconda3/lib/python3.6/glob.py\u001b[0m in \u001b[0;36m_glob1\u001b[0;34m(dirname, pattern, dironly)\u001b[0m\n\u001b[1;32m     78\u001b[0m \u001b[0;34m\u001b[0m\u001b[0m\n\u001b[1;32m     79\u001b[0m \u001b[0;32mdef\u001b[0m \u001b[0m_glob1\u001b[0m\u001b[0;34m(\u001b[0m\u001b[0mdirname\u001b[0m\u001b[0;34m,\u001b[0m \u001b[0mpattern\u001b[0m\u001b[0;34m,\u001b[0m \u001b[0mdironly\u001b[0m\u001b[0;34m)\u001b[0m\u001b[0;34m:\u001b[0m\u001b[0;34m\u001b[0m\u001b[0m\n\u001b[0;32m---> 80\u001b[0;31m     \u001b[0mnames\u001b[0m \u001b[0;34m=\u001b[0m \u001b[0mlist\u001b[0m\u001b[0;34m(\u001b[0m\u001b[0m_iterdir\u001b[0m\u001b[0;34m(\u001b[0m\u001b[0mdirname\u001b[0m\u001b[0;34m,\u001b[0m \u001b[0mdironly\u001b[0m\u001b[0;34m)\u001b[0m\u001b[0;34m)\u001b[0m\u001b[0;34m\u001b[0m\u001b[0m\n\u001b[0m\u001b[1;32m     81\u001b[0m     \u001b[0;32mif\u001b[0m \u001b[0;32mnot\u001b[0m \u001b[0m_ishidden\u001b[0m\u001b[0;34m(\u001b[0m\u001b[0mpattern\u001b[0m\u001b[0;34m)\u001b[0m\u001b[0;34m:\u001b[0m\u001b[0;34m\u001b[0m\u001b[0m\n\u001b[1;32m     82\u001b[0m         \u001b[0mnames\u001b[0m \u001b[0;34m=\u001b[0m \u001b[0;34m(\u001b[0m\u001b[0mx\u001b[0m \u001b[0;32mfor\u001b[0m \u001b[0mx\u001b[0m \u001b[0;32min\u001b[0m \u001b[0mnames\u001b[0m \u001b[0;32mif\u001b[0m \u001b[0;32mnot\u001b[0m \u001b[0m_ishidden\u001b[0m\u001b[0;34m(\u001b[0m\u001b[0mx\u001b[0m\u001b[0;34m)\u001b[0m\u001b[0;34m)\u001b[0m\u001b[0;34m\u001b[0m\u001b[0m\n",
      "\u001b[0;32m~/anaconda3/lib/python3.6/glob.py\u001b[0m in \u001b[0;36m_iterdir\u001b[0;34m(dirname, dironly)\u001b[0m\n\u001b[1;32m    119\u001b[0m             \u001b[0mdirname\u001b[0m \u001b[0;34m=\u001b[0m \u001b[0mos\u001b[0m\u001b[0;34m.\u001b[0m\u001b[0mcurdir\u001b[0m\u001b[0;34m\u001b[0m\u001b[0m\n\u001b[1;32m    120\u001b[0m     \u001b[0;32mtry\u001b[0m\u001b[0;34m:\u001b[0m\u001b[0;34m\u001b[0m\u001b[0m\n\u001b[0;32m--> 121\u001b[0;31m         \u001b[0;32mwith\u001b[0m \u001b[0mos\u001b[0m\u001b[0;34m.\u001b[0m\u001b[0mscandir\u001b[0m\u001b[0;34m(\u001b[0m\u001b[0mdirname\u001b[0m\u001b[0;34m)\u001b[0m \u001b[0;32mas\u001b[0m \u001b[0mit\u001b[0m\u001b[0;34m:\u001b[0m\u001b[0;34m\u001b[0m\u001b[0m\n\u001b[0m\u001b[1;32m    122\u001b[0m             \u001b[0;32mfor\u001b[0m \u001b[0mentry\u001b[0m \u001b[0;32min\u001b[0m \u001b[0mit\u001b[0m\u001b[0;34m:\u001b[0m\u001b[0;34m\u001b[0m\u001b[0m\n\u001b[1;32m    123\u001b[0m                 \u001b[0;32mtry\u001b[0m\u001b[0;34m:\u001b[0m\u001b[0;34m\u001b[0m\u001b[0m\n",
      "\u001b[0;31mUnicodeEncodeError\u001b[0m: 'ascii' codec can't encode character '\\uc5ec' in position 10: ordinal not in range(128)"
     ]
    }
   ],
   "source": [
    "wrongsize_sm = find_wrong_size(sm_m_names)\n",
    "wrongsize_sm"
   ]
  },
  {
   "cell_type": "markdown",
   "metadata": {},
   "source": [
    "### 3.2 JYP 여자 아이돌 crop 이미지 사이즈 체크"
   ]
  },
  {
   "cell_type": "code",
   "execution_count": 115,
   "metadata": {},
   "outputs": [
    {
     "name": "stdout",
     "output_type": "stream",
     "text": [
      "JYP 소속 여자 가수: 21명\n"
     ]
    }
   ],
   "source": [
    "jyp_w_names = get_idol_list('jyp', '여')"
   ]
  },
  {
   "cell_type": "code",
   "execution_count": 117,
   "metadata": {},
   "outputs": [
    {
     "name": "stderr",
     "output_type": "stream",
     "text": [
      "100%|██████████| 21/21 [00:00<00:00, 126.05it/s]\n"
     ]
    },
    {
     "data": {
      "text/plain": [
       "['./crop/JYP_여/소희/14. a1cda27761354ef5a4306a6eb6b0fb33.jpg.jpg',\n",
       " './crop/JYP_여/정연/68. 106773_130260_4537.jpg']"
      ]
     },
     "execution_count": 117,
     "metadata": {},
     "output_type": "execute_result"
    }
   ],
   "source": [
    "wrongsize_jyp = find_wrong_size(jyp_w_names)\n",
    "wrongsize_jyp"
   ]
  },
  {
   "cell_type": "markdown",
   "metadata": {},
   "source": [
    "### 3.3 YG 여자 아이돌 crop 이미지 사이즈 체크"
   ]
  },
  {
   "cell_type": "code",
   "execution_count": 120,
   "metadata": {},
   "outputs": [
    {
     "name": "stdout",
     "output_type": "stream",
     "text": [
      "YG 소속 여자 가수: 8명\n"
     ]
    }
   ],
   "source": [
    "yg_w_names = get_idol_list('yg', '여')"
   ]
  },
  {
   "cell_type": "code",
   "execution_count": 121,
   "metadata": {},
   "outputs": [
    {
     "name": "stderr",
     "output_type": "stream",
     "text": [
      "100%|██████████| 8/8 [00:00<00:00, 40.60it/s]\n"
     ]
    },
    {
     "data": {
      "text/plain": [
       "['./crop/YG_여/공민지/98. 25385_29621_2926.jpg',\n",
       " './crop/YG_여/리사/61. c-vtod-uqaaylsb.jpg']"
      ]
     },
     "execution_count": 121,
     "metadata": {},
     "output_type": "execute_result"
    }
   ],
   "source": [
    "wrongsize_yg = find_wrong_size(yg_w_names)\n",
    "wrongsize_yg"
   ]
  },
  {
   "cell_type": "markdown",
   "metadata": {},
   "source": [
    "### 총 이미지 수"
   ]
  },
  {
   "cell_type": "code",
   "execution_count": 124,
   "metadata": {},
   "outputs": [
    {
     "data": {
      "text/plain": [
       "1953"
      ]
     },
     "execution_count": 124,
     "metadata": {},
     "output_type": "execute_result"
    }
   ],
   "source": [
    "img_list = glob.glob('./crop/*_여/*/*')\n",
    "len(img_list)"
   ]
  },
  {
   "cell_type": "code",
   "execution_count": 125,
   "metadata": {},
   "outputs": [
    {
     "data": {
      "text/plain": [
       "897"
      ]
     },
     "execution_count": 125,
     "metadata": {},
     "output_type": "execute_result"
    }
   ],
   "source": [
    "sm_list = glob.glob('./crop/SM_여/*/*')\n",
    "len(sm_list)"
   ]
  },
  {
   "cell_type": "code",
   "execution_count": 126,
   "metadata": {},
   "outputs": [
    {
     "data": {
      "text/plain": [
       "733"
      ]
     },
     "execution_count": 126,
     "metadata": {},
     "output_type": "execute_result"
    }
   ],
   "source": [
    "jyp_list = glob.glob('./crop/JYP_여/*/*')\n",
    "len(jyp_list)"
   ]
  },
  {
   "cell_type": "code",
   "execution_count": 127,
   "metadata": {},
   "outputs": [
    {
     "data": {
      "text/plain": [
       "323"
      ]
     },
     "execution_count": 127,
     "metadata": {},
     "output_type": "execute_result"
    }
   ],
   "source": [
    "yg_list = glob.glob('./crop/YG_여/*/*')\n",
    "len(yg_list)"
   ]
  }
 ],
 "metadata": {
  "kernelspec": {
   "display_name": "Python 3",
   "language": "python",
   "name": "python3"
  },
  "language_info": {
   "codemirror_mode": {
    "name": "ipython",
    "version": 3
   },
   "file_extension": ".py",
   "mimetype": "text/x-python",
   "name": "python",
   "nbconvert_exporter": "python",
   "pygments_lexer": "ipython3",
   "version": "3.6.5"
  }
 },
 "nbformat": 4,
 "nbformat_minor": 2
}
