{
 "cells": [
  {
   "cell_type": "markdown",
   "metadata": {},
   "source": [
    "# 02. Cropping Face: 아이돌 사진에서 얼굴 부분만 잘라내기 "
   ]
  },
  {
   "cell_type": "markdown",
   "metadata": {},
   "source": [
    "openCV를 기반으로 한 autocrop이라는 library를 활용하여 크롤링한 아이돌들의 사진에서 얼굴 부분을 잘라내어 96*96 사이즈로 저장한다 "
   ]
  },
  {
   "cell_type": "markdown",
   "metadata": {},
   "source": [
    "참고: [autocrop github repository](https://github.com/leblancfg/autocrop)"
   ]
  },
  {
   "cell_type": "code",
   "execution_count": 1,
   "metadata": {},
   "outputs": [],
   "source": [
    "import cv2\n",
    "import autocrop\n",
    "from tqdm import tqdm \n",
    "import glob"
   ]
  },
  {
   "cell_type": "markdown",
   "metadata": {},
   "source": [
    "## 1. autocrop 사용방법"
   ]
  },
  {
   "cell_type": "markdown",
   "metadata": {},
   "source": [
    "autocrop 사용방법은 매우 간단하다.  \n",
    "- -i 뒤에 input 폴더의 경로\n",
    "- -o 뒤에 ouput 폴더의 경로\n",
    "- -w와 -H 뒤에 결과 이미지의 사이즈\n",
    "- --facePercent에 사진에서 얼굴이 차지하는 비중  \n",
    "\n",
    "위와 같은 내용 등을 아래처럼 지정해준다 (더 자세한 내용은 [autocrop github repository](https://github.com/leblancfg/autocrop) 참조)"
   ]
  },
  {
   "cell_type": "code",
   "execution_count": 45,
   "metadata": {},
   "outputs": [
    {
     "name": "stdout",
     "output_type": "stream",
     "text": [
      "Processing images in folder: /Users/hyeshinoh/Google 드라이브/project_3대기획사_분류/downloads/SM_여/크리스탈\n",
      " 49 files have been cropped\n"
     ]
    }
   ],
   "source": [
    "!autocrop -i ./downloads/SM_여/크리스탈/ -o crop/SM_여/크리스탈 -w 96 -H 96 --facePercent 80"
   ]
  },
  {
   "cell_type": "markdown",
   "metadata": {},
   "source": [
    "## 2. autocrop 여러 폴더에 한번에 적용하기"
   ]
  },
  {
   "cell_type": "markdown",
   "metadata": {},
   "source": [
    "- autocrop 명령어를 사용해서 자동으로 얼굴을 잘라낸 후 직접 결과 사진을 확인해야 함\n",
    "    - 얼굴인식이 되지 않아 사진이 잘리지 않거나 얼굴이 아닌 부분이 잘리는 경우가 있음\n",
    "- 얼굴 crop이 잘 되지 않은 사진은 다음과 같은 조치를 취해줌\n",
    "    - 전신이 들어가고 배경이 너무 현란한 사진은 얼굴 위주로 사진을 적당히 잘라준다\n",
    "    - 정면 얼굴이더라도 기울어져있는 얼굴은 인식이 잘 되지 않으므로 사진의 각도를 조절해준다\n",
    "    - 수정된 사진으로 다시 autocrop을 실시한다"
   ]
  },
  {
   "cell_type": "markdown",
   "metadata": {},
   "source": [
    "### 2.1 autocrop 일괄 적용 방법\n",
    "- 여러 명의 사진 폴더에 대해 autocrop shell 명령어를 반복문으로 실행해야 한다"
   ]
  },
  {
   "cell_type": "markdown",
   "metadata": {},
   "source": [
    "크롤링한 사진을 저장해 둔 폴더 구조는 다음과 같이 되어 있다."
   ]
  },
  {
   "cell_type": "code",
   "execution_count": 13,
   "metadata": {},
   "outputs": [
    {
     "name": "stdout",
     "output_type": "stream",
     "text": [
      "/bin/sh: ./downloads/SM_여/보아/: is a directory\n"
     ]
    }
   ],
   "source": [
    "!./downloads/SM_여/보아/"
   ]
  },
  {
   "cell_type": "markdown",
   "metadata": {},
   "source": [
    "`!eval`을 이용해 shell command를 반복문에 넣어 실행하기로 한다"
   ]
  },
  {
   "cell_type": "code",
   "execution_count": 9,
   "metadata": {},
   "outputs": [
    {
     "name": "stdout",
     "output_type": "stream",
     "text": [
      "Processing images in folder: /Users/hyeshinoh/Google 드라이브/project_3대기획사_분류/downloads/SM_여/보아\n",
      "No faces can be detected in 보아_023.jpg.\n",
      "No faces can be detected in 보아_013.jpg.\n",
      "No faces can be detected in 보아_012.jpg.\n",
      " 33 files have been cropped\n"
     ]
    }
   ],
   "source": [
    "!eval \"autocrop -i ./downloads/SM_여/보아/ -o crop/SM_여/보아 -w 96 -H 96 --facePercent 80\""
   ]
  },
  {
   "cell_type": "markdown",
   "metadata": {},
   "source": [
    "#### 1) glob을 이용해 다음과 같이 개인별 폴더의 리스트를 받아옴"
   ]
  },
  {
   "cell_type": "code",
   "execution_count": 56,
   "metadata": {},
   "outputs": [
    {
     "data": {
      "text/plain": [
       "['./downloads/SM_여/선데이',\n",
       " './downloads/SM_여/티파니',\n",
       " './downloads/SM_여/상미린아',\n",
       " './downloads/SM_여/효연',\n",
       " './downloads/SM_여/유진',\n",
       " './downloads/SM_여/태연',\n",
       " './downloads/SM_여/윤아',\n",
       " './downloads/SM_여/설리',\n",
       " './downloads/SM_여/루나',\n",
       " './downloads/SM_여/제시카',\n",
       " './downloads/SM_여/웬디',\n",
       " './downloads/SM_여/다나',\n",
       " './downloads/SM_여/유리',\n",
       " './downloads/SM_여/슬기',\n",
       " './downloads/SM_여/빅토리아',\n",
       " './downloads/SM_여/조이',\n",
       " './downloads/SM_여/바다',\n",
       " './downloads/SM_여/슈',\n",
       " './downloads/SM_여/서현',\n",
       " './downloads/SM_여/수영',\n",
       " './downloads/SM_여/아이린',\n",
       " './downloads/SM_여/스테파니',\n",
       " './downloads/SM_여/써니',\n",
       " './downloads/SM_여/예리',\n",
       " './downloads/SM_여/크리스탈',\n",
       " './downloads/SM_여/보아',\n",
       " './downloads/SM_여/엠버']"
      ]
     },
     "execution_count": 56,
     "metadata": {},
     "output_type": "execute_result"
    }
   ],
   "source": [
    "dir = glob.glob('./downloads/SM_여/*')\n",
    "dir"
   ]
  },
  {
   "cell_type": "markdown",
   "metadata": {},
   "source": [
    "#### 2) 개인마다 폴더의 사진에서 얼굴을 crop하고 crop폴더 내 개인 폴더에 저장"
   ]
  },
  {
   "cell_type": "code",
   "execution_count": 50,
   "metadata": {},
   "outputs": [],
   "source": [
    "def crop_face(folder):\n",
    "    for in_dir_name in tqdm(folder):\n",
    "        out_dir_name = in_dir_name.replace('./downloads/', '')\n",
    "        !eval \"autocrop -i {in_dir_name} -o crop/{out_dir_name} -w 96 -H 96 --facePercent 80\""
   ]
  },
  {
   "cell_type": "markdown",
   "metadata": {},
   "source": [
    "### 2.2 SM 여자 아이돌 사진 얼굴 자르기"
   ]
  },
  {
   "cell_type": "code",
   "execution_count": 60,
   "metadata": {},
   "outputs": [
    {
     "data": {
      "text/plain": [
       "27"
      ]
     },
     "execution_count": 60,
     "metadata": {},
     "output_type": "execute_result"
    }
   ],
   "source": [
    "sm_w_dir = glob.glob('./downloads/SM_여/*')\n",
    "len(sm_w_dir)"
   ]
  },
  {
   "cell_type": "code",
   "execution_count": 51,
   "metadata": {},
   "outputs": [
    {
     "name": "stderr",
     "output_type": "stream",
     "text": [
      "  0%|          | 0/27 [00:00<?, ?it/s]"
     ]
    },
    {
     "name": "stdout",
     "output_type": "stream",
     "text": [
      "Processing images in folder: /Users/hyeshinoh/Workspace/Project_Classification_Big3_Ent_Idols_Face/downloads/SM_여/선데이\n",
      " 12 files have been cropped\n"
     ]
    },
    {
     "name": "stderr",
     "output_type": "stream",
     "text": [
      "  4%|▎         | 1/27 [00:00<00:24,  1.08it/s]"
     ]
    },
    {
     "name": "stdout",
     "output_type": "stream",
     "text": [
      "Processing images in folder: /Users/hyeshinoh/Workspace/Project_Classification_Big3_Ent_Idols_Face/downloads/SM_여/티파니\n",
      " 43 files have been cropped\n"
     ]
    },
    {
     "name": "stderr",
     "output_type": "stream",
     "text": [
      "  7%|▋         | 2/27 [00:03<00:40,  1.63s/it]"
     ]
    },
    {
     "name": "stdout",
     "output_type": "stream",
     "text": [
      "Processing images in folder: /Users/hyeshinoh/Workspace/Project_Classification_Big3_Ent_Idols_Face/downloads/SM_여/상미린아\n",
      "No faces can be detected in 19. %b9%ab%c1%a6-21_%ba%b9%bb%e7_pinky840.jpg.\n",
      " 13 files have been cropped\n"
     ]
    },
    {
     "name": "stderr",
     "output_type": "stream",
     "text": [
      " 11%|█         | 3/27 [00:04<00:33,  1.39s/it]"
     ]
    },
    {
     "name": "stdout",
     "output_type": "stream",
     "text": [
      "Processing images in folder: /Users/hyeshinoh/Workspace/Project_Classification_Big3_Ent_Idols_Face/downloads/SM_여/효연\n",
      " 33 files have been cropped\n"
     ]
    },
    {
     "name": "stderr",
     "output_type": "stream",
     "text": [
      " 15%|█▍        | 4/27 [00:06<00:34,  1.51s/it]"
     ]
    },
    {
     "name": "stdout",
     "output_type": "stream",
     "text": [
      "Processing images in folder: /Users/hyeshinoh/Workspace/Project_Classification_Big3_Ent_Idols_Face/downloads/SM_여/유진\n",
      " 20 files have been cropped\n"
     ]
    },
    {
     "name": "stderr",
     "output_type": "stream",
     "text": [
      " 19%|█▊        | 5/27 [00:07<00:32,  1.46s/it]"
     ]
    },
    {
     "name": "stdout",
     "output_type": "stream",
     "text": [
      "Processing images in folder: /Users/hyeshinoh/Workspace/Project_Classification_Big3_Ent_Idols_Face/downloads/SM_여/태연\n",
      " 52 files have been cropped\n"
     ]
    },
    {
     "name": "stderr",
     "output_type": "stream",
     "text": [
      " 22%|██▏       | 6/27 [00:10<00:36,  1.74s/it]"
     ]
    },
    {
     "name": "stdout",
     "output_type": "stream",
     "text": [
      "Processing images in folder: /Users/hyeshinoh/Workspace/Project_Classification_Big3_Ent_Idols_Face/downloads/SM_여/윤아\n",
      " 67 files have been cropped\n"
     ]
    },
    {
     "name": "stderr",
     "output_type": "stream",
     "text": [
      " 26%|██▌       | 7/27 [00:13<00:39,  1.98s/it]"
     ]
    },
    {
     "name": "stdout",
     "output_type": "stream",
     "text": [
      "Processing images in folder: /Users/hyeshinoh/Workspace/Project_Classification_Big3_Ent_Idols_Face/downloads/SM_여/설리\n",
      " 31 files have been cropped\n"
     ]
    },
    {
     "name": "stderr",
     "output_type": "stream",
     "text": [
      " 30%|██▉       | 8/27 [00:15<00:37,  1.97s/it]"
     ]
    },
    {
     "name": "stdout",
     "output_type": "stream",
     "text": [
      "Processing images in folder: /Users/hyeshinoh/Workspace/Project_Classification_Big3_Ent_Idols_Face/downloads/SM_여/루나\n",
      " 34 files have been cropped\n"
     ]
    },
    {
     "name": "stderr",
     "output_type": "stream",
     "text": [
      " 33%|███▎      | 9/27 [00:17<00:35,  1.98s/it]"
     ]
    },
    {
     "name": "stdout",
     "output_type": "stream",
     "text": [
      "Processing images in folder: /Users/hyeshinoh/Workspace/Project_Classification_Big3_Ent_Idols_Face/downloads/SM_여/제시카\n",
      " 45 files have been cropped\n"
     ]
    },
    {
     "name": "stderr",
     "output_type": "stream",
     "text": [
      " 37%|███▋      | 10/27 [00:20<00:35,  2.08s/it]"
     ]
    },
    {
     "name": "stdout",
     "output_type": "stream",
     "text": [
      "Processing images in folder: /Users/hyeshinoh/Workspace/Project_Classification_Big3_Ent_Idols_Face/downloads/SM_여/웬디\n",
      "No faces can be detected in 47. i16395693941.jpg.\n",
      "libpng warning: iCCP: known incorrect sRGB profile\n",
      " 29 files have been cropped\n"
     ]
    },
    {
     "name": "stderr",
     "output_type": "stream",
     "text": [
      " 41%|████      | 11/27 [00:22<00:33,  2.09s/it]"
     ]
    },
    {
     "name": "stdout",
     "output_type": "stream",
     "text": [
      "Processing images in folder: /Users/hyeshinoh/Workspace/Project_Classification_Big3_Ent_Idols_Face/downloads/SM_여/다나\n",
      " 36 files have been cropped\n"
     ]
    },
    {
     "name": "stderr",
     "output_type": "stream",
     "text": [
      " 44%|████▍     | 12/27 [00:25<00:31,  2.10s/it]"
     ]
    },
    {
     "name": "stdout",
     "output_type": "stream",
     "text": [
      "Processing images in folder: /Users/hyeshinoh/Workspace/Project_Classification_Big3_Ent_Idols_Face/downloads/SM_여/유리\n",
      " 37 files have been cropped\n"
     ]
    },
    {
     "name": "stderr",
     "output_type": "stream",
     "text": [
      " 48%|████▊     | 13/27 [00:27<00:29,  2.11s/it]"
     ]
    },
    {
     "name": "stdout",
     "output_type": "stream",
     "text": [
      "Processing images in folder: /Users/hyeshinoh/Workspace/Project_Classification_Big3_Ent_Idols_Face/downloads/SM_여/슬기\n",
      " 43 files have been cropped\n"
     ]
    },
    {
     "name": "stderr",
     "output_type": "stream",
     "text": [
      " 52%|█████▏    | 14/27 [00:30<00:28,  2.16s/it]"
     ]
    },
    {
     "name": "stdout",
     "output_type": "stream",
     "text": [
      "Processing images in folder: /Users/hyeshinoh/Workspace/Project_Classification_Big3_Ent_Idols_Face/downloads/SM_여/빅토리아\n",
      " 21 files have been cropped\n"
     ]
    },
    {
     "name": "stderr",
     "output_type": "stream",
     "text": [
      " 56%|█████▌    | 15/27 [00:31<00:25,  2.11s/it]"
     ]
    },
    {
     "name": "stdout",
     "output_type": "stream",
     "text": [
      "Processing images in folder: /Users/hyeshinoh/Workspace/Project_Classification_Big3_Ent_Idols_Face/downloads/SM_여/조이\n",
      "No faces can be detected in 39. 2017021811202747988-540x314.jpg.\n",
      " 44 files have been cropped\n"
     ]
    },
    {
     "name": "stderr",
     "output_type": "stream",
     "text": [
      " 59%|█████▉    | 16/27 [00:34<00:23,  2.16s/it]"
     ]
    },
    {
     "name": "stdout",
     "output_type": "stream",
     "text": [
      "Processing images in folder: /Users/hyeshinoh/Workspace/Project_Classification_Big3_Ent_Idols_Face/downloads/SM_여/바다\n",
      " 23 files have been cropped\n"
     ]
    },
    {
     "name": "stderr",
     "output_type": "stream",
     "text": [
      " 63%|██████▎   | 17/27 [00:35<00:21,  2.12s/it]"
     ]
    },
    {
     "name": "stdout",
     "output_type": "stream",
     "text": [
      "Processing images in folder: /Users/hyeshinoh/Workspace/Project_Classification_Big3_Ent_Idols_Face/downloads/SM_여/슈\n",
      " 11 files have been cropped\n"
     ]
    },
    {
     "name": "stderr",
     "output_type": "stream",
     "text": [
      " 67%|██████▋   | 18/27 [00:36<00:18,  2.04s/it]"
     ]
    },
    {
     "name": "stdout",
     "output_type": "stream",
     "text": [
      "Processing images in folder: /Users/hyeshinoh/Workspace/Project_Classification_Big3_Ent_Idols_Face/downloads/SM_여/서현\n",
      " 43 files have been cropped\n"
     ]
    },
    {
     "name": "stderr",
     "output_type": "stream",
     "text": [
      " 70%|███████   | 19/27 [00:39<00:16,  2.07s/it]"
     ]
    },
    {
     "name": "stdout",
     "output_type": "stream",
     "text": [
      "Processing images in folder: /Users/hyeshinoh/Workspace/Project_Classification_Big3_Ent_Idols_Face/downloads/SM_여/수영\n",
      "No faces can be detected in 53. 20150701000012_0.jpg.\n",
      " 21 files have been cropped\n"
     ]
    },
    {
     "name": "stderr",
     "output_type": "stream",
     "text": [
      " 74%|███████▍  | 20/27 [00:40<00:14,  2.04s/it]"
     ]
    },
    {
     "name": "stdout",
     "output_type": "stream",
     "text": [
      "Processing images in folder: /Users/hyeshinoh/Workspace/Project_Classification_Big3_Ent_Idols_Face/downloads/SM_여/아이린\n",
      " 48 files have been cropped\n"
     ]
    },
    {
     "name": "stderr",
     "output_type": "stream",
     "text": [
      " 78%|███████▊  | 21/27 [00:43<00:12,  2.09s/it]"
     ]
    },
    {
     "name": "stdout",
     "output_type": "stream",
     "text": [
      "Processing images in folder: /Users/hyeshinoh/Workspace/Project_Classification_Big3_Ent_Idols_Face/downloads/SM_여/스테파니\n",
      " 15 files have been cropped\n"
     ]
    },
    {
     "name": "stderr",
     "output_type": "stream",
     "text": [
      " 81%|████████▏ | 22/27 [00:44<00:10,  2.04s/it]"
     ]
    },
    {
     "name": "stdout",
     "output_type": "stream",
     "text": [
      "Processing images in folder: /Users/hyeshinoh/Workspace/Project_Classification_Big3_Ent_Idols_Face/downloads/SM_여/써니\n",
      "No faces can be detected in 67. 126783_126404_158.jpg.\n",
      " 37 files have been cropped\n"
     ]
    },
    {
     "name": "stderr",
     "output_type": "stream",
     "text": [
      " 85%|████████▌ | 23/27 [00:47<00:08,  2.05s/it]"
     ]
    },
    {
     "name": "stdout",
     "output_type": "stream",
     "text": [
      "Processing images in folder: /Users/hyeshinoh/Workspace/Project_Classification_Big3_Ent_Idols_Face/downloads/SM_여/예리\n",
      " 33 files have been cropped\n"
     ]
    },
    {
     "name": "stderr",
     "output_type": "stream",
     "text": [
      " 89%|████████▉ | 24/27 [00:49<00:06,  2.06s/it]"
     ]
    },
    {
     "name": "stdout",
     "output_type": "stream",
     "text": [
      "Processing images in folder: /Users/hyeshinoh/Workspace/Project_Classification_Big3_Ent_Idols_Face/downloads/SM_여/크리스탈\n",
      " 49 files have been cropped\n"
     ]
    },
    {
     "name": "stderr",
     "output_type": "stream",
     "text": [
      " 93%|█████████▎| 25/27 [00:52<00:04,  2.10s/it]"
     ]
    },
    {
     "name": "stdout",
     "output_type": "stream",
     "text": [
      "Processing images in folder: /Users/hyeshinoh/Workspace/Project_Classification_Big3_Ent_Idols_Face/downloads/SM_여/보아\n",
      " 36 files have been cropped\n"
     ]
    },
    {
     "name": "stderr",
     "output_type": "stream",
     "text": [
      " 96%|█████████▋| 26/27 [00:54<00:02,  2.10s/it]"
     ]
    },
    {
     "name": "stdout",
     "output_type": "stream",
     "text": [
      "Processing images in folder: /Users/hyeshinoh/Workspace/Project_Classification_Big3_Ent_Idols_Face/downloads/SM_여/엠버\n",
      " 17 files have been cropped\n"
     ]
    },
    {
     "name": "stderr",
     "output_type": "stream",
     "text": [
      "100%|██████████| 27/27 [00:55<00:00,  2.06s/it]\n"
     ]
    }
   ],
   "source": [
    "crop_face(sm_w_dir)"
   ]
  },
  {
   "cell_type": "markdown",
   "metadata": {},
   "source": [
    "### 2.3 JYP 여자 아이돌 사진 얼굴 자르기"
   ]
  },
  {
   "cell_type": "code",
   "execution_count": 61,
   "metadata": {},
   "outputs": [
    {
     "data": {
      "text/plain": [
       "21"
      ]
     },
     "execution_count": 61,
     "metadata": {},
     "output_type": "execute_result"
    }
   ],
   "source": [
    "jyp_w_dir = glob.glob('./downloads/JYP_여/*')\n",
    "len(jyp_w_dir)"
   ]
  },
  {
   "cell_type": "code",
   "execution_count": 53,
   "metadata": {},
   "outputs": [
    {
     "name": "stderr",
     "output_type": "stream",
     "text": [
      "  0%|          | 0/21 [00:00<?, ?it/s]"
     ]
    },
    {
     "name": "stdout",
     "output_type": "stream",
     "text": [
      "Processing images in folder: /Users/hyeshinoh/Workspace/Project_Classification_Big3_Ent_Idols_Face/downloads/JYP_여/현아\n",
      " 40 files have been cropped\n"
     ]
    },
    {
     "name": "stderr",
     "output_type": "stream",
     "text": [
      "  5%|▍         | 1/21 [00:01<00:38,  1.94s/it]"
     ]
    },
    {
     "name": "stdout",
     "output_type": "stream",
     "text": [
      "Processing images in folder: /Users/hyeshinoh/Workspace/Project_Classification_Big3_Ent_Idols_Face/downloads/JYP_여/채영\n",
      " 48 files have been cropped\n"
     ]
    },
    {
     "name": "stderr",
     "output_type": "stream",
     "text": [
      " 10%|▉         | 2/21 [00:04<00:47,  2.49s/it]"
     ]
    },
    {
     "name": "stdout",
     "output_type": "stream",
     "text": [
      "Processing images in folder: /Users/hyeshinoh/Workspace/Project_Classification_Big3_Ent_Idols_Face/downloads/JYP_여/선예\n",
      " 28 files have been cropped\n"
     ]
    },
    {
     "name": "stderr",
     "output_type": "stream",
     "text": [
      " 14%|█▍        | 3/21 [00:06<00:39,  2.17s/it]"
     ]
    },
    {
     "name": "stdout",
     "output_type": "stream",
     "text": [
      "Processing images in folder: /Users/hyeshinoh/Workspace/Project_Classification_Big3_Ent_Idols_Face/downloads/JYP_여/정연\n",
      "No faces can be detected in 68. 106773_130260_4537.jpg.\n",
      " 36 files have been cropped\n"
     ]
    },
    {
     "name": "stderr",
     "output_type": "stream",
     "text": [
      " 19%|█▉        | 4/21 [00:08<00:37,  2.22s/it]"
     ]
    },
    {
     "name": "stdout",
     "output_type": "stream",
     "text": [
      "Processing images in folder: /Users/hyeshinoh/Workspace/Project_Classification_Big3_Ent_Idols_Face/downloads/JYP_여/혜림\n",
      " 44 files have been cropped\n"
     ]
    },
    {
     "name": "stderr",
     "output_type": "stream",
     "text": [
      " 24%|██▍       | 5/21 [00:11<00:37,  2.33s/it]"
     ]
    },
    {
     "name": "stdout",
     "output_type": "stream",
     "text": [
      "Processing images in folder: /Users/hyeshinoh/Workspace/Project_Classification_Big3_Ent_Idols_Face/downloads/JYP_여/사나\n",
      " 30 files have been cropped\n"
     ]
    },
    {
     "name": "stderr",
     "output_type": "stream",
     "text": [
      " 29%|██▊       | 6/21 [00:13<00:34,  2.30s/it]"
     ]
    },
    {
     "name": "stdout",
     "output_type": "stream",
     "text": [
      "Processing images in folder: /Users/hyeshinoh/Workspace/Project_Classification_Big3_Ent_Idols_Face/downloads/JYP_여/선미\n",
      " 43 files have been cropped\n"
     ]
    },
    {
     "name": "stderr",
     "output_type": "stream",
     "text": [
      " 33%|███▎      | 7/21 [00:16<00:32,  2.36s/it]"
     ]
    },
    {
     "name": "stdout",
     "output_type": "stream",
     "text": [
      "Processing images in folder: /Users/hyeshinoh/Workspace/Project_Classification_Big3_Ent_Idols_Face/downloads/JYP_여/민\n",
      " 14 files have been cropped\n"
     ]
    },
    {
     "name": "stderr",
     "output_type": "stream",
     "text": [
      " 38%|███▊      | 8/21 [00:17<00:28,  2.20s/it]"
     ]
    },
    {
     "name": "stdout",
     "output_type": "stream",
     "text": [
      "Processing images in folder: /Users/hyeshinoh/Workspace/Project_Classification_Big3_Ent_Idols_Face/downloads/JYP_여/예은\n",
      " 28 files have been cropped\n"
     ]
    },
    {
     "name": "stderr",
     "output_type": "stream",
     "text": [
      " 43%|████▎     | 9/21 [00:19<00:25,  2.15s/it]"
     ]
    },
    {
     "name": "stdout",
     "output_type": "stream",
     "text": [
      "Processing images in folder: /Users/hyeshinoh/Workspace/Project_Classification_Big3_Ent_Idols_Face/downloads/JYP_여/소희\n",
      "No faces can be detected in 14. a1cda27761354ef5a4306a6eb6b0fb33.jpg.jpg.\n",
      " 34 files have been cropped\n"
     ]
    },
    {
     "name": "stderr",
     "output_type": "stream",
     "text": [
      " 48%|████▊     | 10/21 [00:21<00:23,  2.14s/it]"
     ]
    },
    {
     "name": "stdout",
     "output_type": "stream",
     "text": [
      "Processing images in folder: /Users/hyeshinoh/Workspace/Project_Classification_Big3_Ent_Idols_Face/downloads/JYP_여/페이\n",
      " 32 files have been cropped\n"
     ]
    },
    {
     "name": "stderr",
     "output_type": "stream",
     "text": [
      " 52%|█████▏    | 11/21 [00:23<00:21,  2.11s/it]"
     ]
    },
    {
     "name": "stdout",
     "output_type": "stream",
     "text": [
      "Processing images in folder: /Users/hyeshinoh/Workspace/Project_Classification_Big3_Ent_Idols_Face/downloads/JYP_여/다현\n",
      " 44 files have been cropped\n"
     ]
    },
    {
     "name": "stderr",
     "output_type": "stream",
     "text": [
      " 57%|█████▋    | 12/21 [00:25<00:19,  2.16s/it]"
     ]
    },
    {
     "name": "stdout",
     "output_type": "stream",
     "text": [
      "Processing images in folder: /Users/hyeshinoh/Workspace/Project_Classification_Big3_Ent_Idols_Face/downloads/JYP_여/수지\n",
      " 49 files have been cropped\n"
     ]
    },
    {
     "name": "stderr",
     "output_type": "stream",
     "text": [
      " 62%|██████▏   | 13/21 [00:28<00:17,  2.22s/it]"
     ]
    },
    {
     "name": "stdout",
     "output_type": "stream",
     "text": [
      "Processing images in folder: /Users/hyeshinoh/Workspace/Project_Classification_Big3_Ent_Idols_Face/downloads/JYP_여/유빈\n",
      " 31 files have been cropped\n"
     ]
    },
    {
     "name": "stderr",
     "output_type": "stream",
     "text": [
      " 67%|██████▋   | 14/21 [00:30<00:15,  2.19s/it]"
     ]
    },
    {
     "name": "stdout",
     "output_type": "stream",
     "text": [
      "Processing images in folder: /Users/hyeshinoh/Workspace/Project_Classification_Big3_Ent_Idols_Face/downloads/JYP_여/쯔위\n",
      " 53 files have been cropped\n"
     ]
    },
    {
     "name": "stderr",
     "output_type": "stream",
     "text": [
      " 71%|███████▏  | 15/21 [00:33<00:13,  2.26s/it]"
     ]
    },
    {
     "name": "stdout",
     "output_type": "stream",
     "text": [
      "Processing images in folder: /Users/hyeshinoh/Workspace/Project_Classification_Big3_Ent_Idols_Face/downloads/JYP_여/나연\n",
      " 38 files have been cropped\n"
     ]
    },
    {
     "name": "stderr",
     "output_type": "stream",
     "text": [
      " 76%|███████▌  | 16/21 [00:36<00:11,  2.26s/it]"
     ]
    },
    {
     "name": "stdout",
     "output_type": "stream",
     "text": [
      "Processing images in folder: /Users/hyeshinoh/Workspace/Project_Classification_Big3_Ent_Idols_Face/downloads/JYP_여/전소미\n",
      " 29 files have been cropped\n"
     ]
    },
    {
     "name": "stderr",
     "output_type": "stream",
     "text": [
      " 81%|████████  | 17/21 [00:38<00:09,  2.26s/it]"
     ]
    },
    {
     "name": "stdout",
     "output_type": "stream",
     "text": [
      "Processing images in folder: /Users/hyeshinoh/Workspace/Project_Classification_Big3_Ent_Idols_Face/downloads/JYP_여/모모\n",
      " 26 files have been cropped\n"
     ]
    },
    {
     "name": "stderr",
     "output_type": "stream",
     "text": [
      " 86%|████████▌ | 18/21 [00:40<00:06,  2.24s/it]"
     ]
    },
    {
     "name": "stdout",
     "output_type": "stream",
     "text": [
      "Processing images in folder: /Users/hyeshinoh/Workspace/Project_Classification_Big3_Ent_Idols_Face/downloads/JYP_여/지아\n",
      " 17 files have been cropped\n"
     ]
    },
    {
     "name": "stderr",
     "output_type": "stream",
     "text": [
      " 90%|█████████ | 19/21 [00:41<00:04,  2.18s/it]"
     ]
    },
    {
     "name": "stdout",
     "output_type": "stream",
     "text": [
      "Processing images in folder: /Users/hyeshinoh/Workspace/Project_Classification_Big3_Ent_Idols_Face/downloads/JYP_여/미나\n",
      " 26 files have been cropped\n"
     ]
    },
    {
     "name": "stderr",
     "output_type": "stream",
     "text": [
      " 95%|█████████▌| 20/21 [00:42<00:02,  2.14s/it]"
     ]
    },
    {
     "name": "stdout",
     "output_type": "stream",
     "text": [
      "Processing images in folder: /Users/hyeshinoh/Workspace/Project_Classification_Big3_Ent_Idols_Face/downloads/JYP_여/지효\n",
      " 41 files have been cropped\n"
     ]
    },
    {
     "name": "stderr",
     "output_type": "stream",
     "text": [
      "100%|██████████| 21/21 [00:45<00:00,  2.17s/it]\n"
     ]
    }
   ],
   "source": [
    "crop_face(jyp_w_dir)"
   ]
  },
  {
   "cell_type": "markdown",
   "metadata": {},
   "source": [
    "### 2.4 YG 여자 아이돌 사진 얼굴 자르기"
   ]
  },
  {
   "cell_type": "code",
   "execution_count": 62,
   "metadata": {},
   "outputs": [
    {
     "data": {
      "text/plain": [
       "8"
      ]
     },
     "execution_count": 62,
     "metadata": {},
     "output_type": "execute_result"
    }
   ],
   "source": [
    "yg_w_dir = glob.glob('./downloads/YG_여/*')\n",
    "len(yg_w_dir)"
   ]
  },
  {
   "cell_type": "code",
   "execution_count": 55,
   "metadata": {},
   "outputs": [
    {
     "name": "stderr",
     "output_type": "stream",
     "text": [
      "  0%|          | 0/8 [00:00<?, ?it/s]"
     ]
    },
    {
     "name": "stdout",
     "output_type": "stream",
     "text": [
      "Processing images in folder: /Users/hyeshinoh/Workspace/Project_Classification_Big3_Ent_Idols_Face/downloads/YG_여/박봄\n",
      " 39 files have been cropped\n"
     ]
    },
    {
     "name": "stderr",
     "output_type": "stream",
     "text": [
      " 12%|█▎        | 1/8 [00:02<00:15,  2.19s/it]"
     ]
    },
    {
     "name": "stdout",
     "output_type": "stream",
     "text": [
      "Processing images in folder: /Users/hyeshinoh/Workspace/Project_Classification_Big3_Ent_Idols_Face/downloads/YG_여/지수\n",
      " 37 files have been cropped\n"
     ]
    },
    {
     "name": "stderr",
     "output_type": "stream",
     "text": [
      " 25%|██▌       | 2/8 [00:04<00:13,  2.26s/it]"
     ]
    },
    {
     "name": "stdout",
     "output_type": "stream",
     "text": [
      "Processing images in folder: /Users/hyeshinoh/Workspace/Project_Classification_Big3_Ent_Idols_Face/downloads/YG_여/로제\n",
      " 40 files have been cropped\n"
     ]
    },
    {
     "name": "stderr",
     "output_type": "stream",
     "text": [
      " 38%|███▊      | 3/8 [00:06<00:11,  2.22s/it]"
     ]
    },
    {
     "name": "stdout",
     "output_type": "stream",
     "text": [
      "Processing images in folder: /Users/hyeshinoh/Workspace/Project_Classification_Big3_Ent_Idols_Face/downloads/YG_여/제니\n",
      " 39 files have been cropped\n"
     ]
    },
    {
     "name": "stderr",
     "output_type": "stream",
     "text": [
      " 50%|█████     | 4/8 [00:08<00:08,  2.19s/it]"
     ]
    },
    {
     "name": "stdout",
     "output_type": "stream",
     "text": [
      "Processing images in folder: /Users/hyeshinoh/Workspace/Project_Classification_Big3_Ent_Idols_Face/downloads/YG_여/씨엘\n",
      " 42 files have been cropped\n"
     ]
    },
    {
     "name": "stderr",
     "output_type": "stream",
     "text": [
      " 62%|██████▎   | 5/8 [00:11<00:06,  2.24s/it]"
     ]
    },
    {
     "name": "stdout",
     "output_type": "stream",
     "text": [
      "Processing images in folder: /Users/hyeshinoh/Workspace/Project_Classification_Big3_Ent_Idols_Face/downloads/YG_여/산다라박\n",
      " 50 files have been cropped\n"
     ]
    },
    {
     "name": "stderr",
     "output_type": "stream",
     "text": [
      " 75%|███████▌  | 6/8 [00:14<00:04,  2.35s/it]"
     ]
    },
    {
     "name": "stdout",
     "output_type": "stream",
     "text": [
      "Processing images in folder: /Users/hyeshinoh/Workspace/Project_Classification_Big3_Ent_Idols_Face/downloads/YG_여/공민지\n",
      "No faces can be detected in 98. 25385_29621_2926.jpg.\n",
      " 39 files have been cropped\n"
     ]
    },
    {
     "name": "stderr",
     "output_type": "stream",
     "text": [
      " 88%|████████▊ | 7/8 [00:16<00:02,  2.33s/it]"
     ]
    },
    {
     "name": "stdout",
     "output_type": "stream",
     "text": [
      "Processing images in folder: /Users/hyeshinoh/Workspace/Project_Classification_Big3_Ent_Idols_Face/downloads/YG_여/리사\n",
      "No faces can be detected in 61. c-vtod-uqaaylsb.jpg.\n",
      " 35 files have been cropped\n"
     ]
    },
    {
     "name": "stderr",
     "output_type": "stream",
     "text": [
      "100%|██████████| 8/8 [00:18<00:00,  2.26s/it]\n"
     ]
    }
   ],
   "source": [
    "crop_face(yg_w_dir)"
   ]
  },
  {
   "cell_type": "markdown",
   "metadata": {},
   "source": [
    "## 3. 이미지 크기 96*96으로 통일하기\n",
    "- 얼굴인식이 되지 않은 경우 사이즈가 조절이 되어 있지 않을 수 있으므로 이미지의 사이즈를 체크\n",
    "- 이미지의 사이즈가 다를 경우 96*96으로 사이즈 조정"
   ]
  },
  {
   "cell_type": "markdown",
   "metadata": {},
   "source": [
    "소속사별 남/녀 아이돌 멤버 이름 리스트로 받기"
   ]
  },
  {
   "cell_type": "code",
   "execution_count": 92,
   "metadata": {},
   "outputs": [],
   "source": [
    "def get_idol_list(company, gender):\n",
    "    df = pd.read_csv(\"{}.csv\".format(company), encoding='euc_kr')\n",
    "    names = df[df[\"성별\"]==gender][\"멤버\"].tolist()\n",
    "    names = [x.split(',') for x in names]\n",
    "    names = [item for sublist in names for item in sublist]\n",
    "    names = [x.strip() for x in names]\n",
    "    print(\"{} 소속 {}자 가수: {}명\".format(company.upper(), gender, len(names)))\n",
    "    return names"
   ]
  },
  {
   "cell_type": "markdown",
   "metadata": {},
   "source": [
    "사이즈가 96*96이 아닌 이미지파일 이름 리스트로 받기"
   ]
  },
  {
   "cell_type": "code",
   "execution_count": 65,
   "metadata": {},
   "outputs": [],
   "source": [
    "def find_wrong_size(names):\n",
    "    for name in tqdm(names):\n",
    "        wrongsize = []\n",
    "        img_list = glob.glob('./crop/{}_여/{}/*'.format(str(names).split(\"_\")[0].upper(), name))\n",
    "        for img in img_list:\n",
    "            imgfile = cv2.imread(str(img)) \n",
    "            if imgfile.shape != (96, 96, 3):\n",
    "                wrongsize.append(img)\n",
    "    return wrongsize"
   ]
  },
  {
   "cell_type": "markdown",
   "metadata": {},
   "source": [
    "### 3.1 SM 여자 아이돌 crop 이미지 사이즈 체크"
   ]
  },
  {
   "cell_type": "code",
   "execution_count": 89,
   "metadata": {},
   "outputs": [
    {
     "name": "stdout",
     "output_type": "stream",
     "text": [
      "SM 소속 여자 가수: 27명\n"
     ]
    }
   ],
   "source": [
    "sm_w_names = get_idol_list('sm', '여')"
   ]
  },
  {
   "cell_type": "code",
   "execution_count": 66,
   "metadata": {},
   "outputs": [
    {
     "name": "stderr",
     "output_type": "stream",
     "text": [
      "100%|██████████| 27/27 [00:00<00:00, 6382.94it/s]\n"
     ]
    },
    {
     "data": {
      "text/plain": [
       "[]"
      ]
     },
     "execution_count": 66,
     "metadata": {},
     "output_type": "execute_result"
    }
   ],
   "source": [
    "find_wrong_size(sm_w_names)"
   ]
  },
  {
   "cell_type": "markdown",
   "metadata": {},
   "source": [
    "### 3.2 JYP 여자 아이돌 crop 이미지 사이즈 체크"
   ]
  },
  {
   "cell_type": "code",
   "execution_count": 90,
   "metadata": {},
   "outputs": [
    {
     "name": "stdout",
     "output_type": "stream",
     "text": [
      "JYP 소속 여자 가수: 21명\n"
     ]
    }
   ],
   "source": [
    "jyp_w_names = get_idol_list('jyp', '여')"
   ]
  },
  {
   "cell_type": "code",
   "execution_count": 68,
   "metadata": {},
   "outputs": [
    {
     "name": "stderr",
     "output_type": "stream",
     "text": [
      "100%|██████████| 21/21 [00:00<00:00, 5289.80it/s]\n"
     ]
    },
    {
     "data": {
      "text/plain": [
       "[]"
      ]
     },
     "execution_count": 68,
     "metadata": {},
     "output_type": "execute_result"
    }
   ],
   "source": [
    "find_wrong_size(jyp_w_names)"
   ]
  },
  {
   "cell_type": "markdown",
   "metadata": {},
   "source": [
    "### 3.3 YG 여자 아이돌 crop 이미지 사이즈 체크"
   ]
  },
  {
   "cell_type": "code",
   "execution_count": 91,
   "metadata": {},
   "outputs": [
    {
     "name": "stdout",
     "output_type": "stream",
     "text": [
      "YG 소속 여자 가수: 8명\n"
     ]
    }
   ],
   "source": [
    "yg_w_names = get_idol_list('yg', '여')"
   ]
  },
  {
   "cell_type": "code",
   "execution_count": 70,
   "metadata": {},
   "outputs": [
    {
     "name": "stderr",
     "output_type": "stream",
     "text": [
      "100%|██████████| 8/8 [00:00<00:00, 5621.45it/s]\n"
     ]
    },
    {
     "data": {
      "text/plain": [
       "[]"
      ]
     },
     "execution_count": 70,
     "metadata": {},
     "output_type": "execute_result"
    }
   ],
   "source": [
    "find_wrong_size(yg_w_names)"
   ]
  },
  {
   "cell_type": "markdown",
   "metadata": {},
   "source": [
    "### 총 이미지 수"
   ]
  },
  {
   "cell_type": "code",
   "execution_count": 3,
   "metadata": {},
   "outputs": [
    {
     "data": {
      "text/plain": [
       "1953"
      ]
     },
     "execution_count": 3,
     "metadata": {},
     "output_type": "execute_result"
    }
   ],
   "source": [
    "img_list = glob.glob('./crop/*_여/*/*')\n",
    "len(img_list)"
   ]
  },
  {
   "cell_type": "code",
   "execution_count": 4,
   "metadata": {},
   "outputs": [
    {
     "data": {
      "text/plain": [
       "898"
      ]
     },
     "execution_count": 4,
     "metadata": {},
     "output_type": "execute_result"
    }
   ],
   "source": [
    "sm_list = glob.glob('./crop/SM_여/*/*')\n",
    "len(sm_list)"
   ]
  },
  {
   "cell_type": "code",
   "execution_count": 5,
   "metadata": {},
   "outputs": [
    {
     "data": {
      "text/plain": [
       "732"
      ]
     },
     "execution_count": 5,
     "metadata": {},
     "output_type": "execute_result"
    }
   ],
   "source": [
    "jyp_list = glob.glob('./crop/JYP_여/*/*')\n",
    "len(jyp_list)"
   ]
  },
  {
   "cell_type": "code",
   "execution_count": 6,
   "metadata": {},
   "outputs": [
    {
     "data": {
      "text/plain": [
       "323"
      ]
     },
     "execution_count": 6,
     "metadata": {},
     "output_type": "execute_result"
    }
   ],
   "source": [
    "yg_list = glob.glob('./crop/YG_여/*/*')\n",
    "len(yg_list)"
   ]
  }
 ],
 "metadata": {
  "kernelspec": {
   "display_name": "Python 3",
   "language": "python",
   "name": "python3"
  },
  "language_info": {
   "codemirror_mode": {
    "name": "ipython",
    "version": 3
   },
   "file_extension": ".py",
   "mimetype": "text/x-python",
   "name": "python",
   "nbconvert_exporter": "python",
   "pygments_lexer": "ipython3",
   "version": "3.7.0"
  }
 },
 "nbformat": 4,
 "nbformat_minor": 2
}
