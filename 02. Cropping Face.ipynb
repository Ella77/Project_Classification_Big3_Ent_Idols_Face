{
 "cells": [
  {
   "cell_type": "markdown",
   "metadata": {},
   "source": [
    "# 02. Cropping Face: 아이돌 사진에서 얼굴 부분만 잘라내기 "
   ]
  },
  {
   "cell_type": "markdown",
   "metadata": {},
   "source": [
    "openCV를 기반으로 한 autocrop이라는 library를 활용하여 크롤링한 아이돌들의 사진에서 얼굴 부분을 잘라내어 96*96 사이즈로 저장한다 "
   ]
  },
  {
   "cell_type": "markdown",
   "metadata": {},
   "source": [
    "참고: [autocrop github repository](https://github.com/leblancfg/autocrop)"
   ]
  },
  {
   "cell_type": "markdown",
   "metadata": {},
   "source": [
    "## 1. Loading necessary libraries"
   ]
  },
  {
   "cell_type": "code",
   "execution_count": 44,
   "metadata": {},
   "outputs": [],
   "source": [
    "import autocrop\n",
    "from tqdm import tqdm \n",
    "import glob"
   ]
  },
  {
   "cell_type": "markdown",
   "metadata": {},
   "source": [
    "## 2. autocrop 사용방법"
   ]
  },
  {
   "cell_type": "markdown",
   "metadata": {},
   "source": [
    "autocrop 사용방법은 매우 간단하다.  \n",
    "- -i 뒤에 input 폴더의 경로\n",
    "- -o 뒤에 ouput 폴더의 경로\n",
    "- -w와 -H 뒤에 결과 이미지의 사이즈\n",
    "- , --facePercent에 사진에서 얼굴이 차지하는 비중을 지정해준다"
   ]
  },
  {
   "cell_type": "code",
   "execution_count": 45,
   "metadata": {},
   "outputs": [
    {
     "name": "stdout",
     "output_type": "stream",
     "text": [
      "Processing images in folder: /Users/hyeshinoh/Google 드라이브/project_3대기획사_분류/downloads/SM_여/크리스탈\n",
      " 49 files have been cropped\n"
     ]
    }
   ],
   "source": [
    "!autocrop -i ./downloads/SM_여/크리스탈/ -o crop/SM_여/크리스탈 -w 96 -H 96 --facePercent 80"
   ]
  },
  {
   "cell_type": "markdown",
   "metadata": {},
   "source": [
    "여러 명의 사진 폴더에 위의 shell 명령어를 반복문으로 실행해야 한다"
   ]
  },
  {
   "cell_type": "code",
   "execution_count": 13,
   "metadata": {},
   "outputs": [
    {
     "name": "stdout",
     "output_type": "stream",
     "text": [
      "/bin/sh: ./downloads/SM_여/보아/: is a directory\n"
     ]
    }
   ],
   "source": [
    "!./downloads/SM_여/보아/"
   ]
  },
  {
   "cell_type": "markdown",
   "metadata": {},
   "source": [
    "아래처럼 얼굴 인식에 실패한 사진은 직접 확인하고 사진을 필요에 따라 수정해주어야 함"
   ]
  },
  {
   "cell_type": "code",
   "execution_count": 9,
   "metadata": {},
   "outputs": [
    {
     "name": "stdout",
     "output_type": "stream",
     "text": [
      "Processing images in folder: /Users/hyeshinoh/Google 드라이브/project_3대기획사_분류/downloads/SM_여/보아\n",
      "No faces can be detected in 보아_023.jpg.\n",
      "No faces can be detected in 보아_013.jpg.\n",
      "No faces can be detected in 보아_012.jpg.\n",
      " 33 files have been cropped\n"
     ]
    }
   ],
   "source": [
    "!eval \"autocrop -i ./downloads/SM_여/보아/ -o crop/SM_여/보아 -w 96 -H 96 --facePercent 80\""
   ]
  },
  {
   "cell_type": "markdown",
   "metadata": {},
   "source": [
    "## 3. Face autocrop 여러 폴더에 한번에 적용하기"
   ]
  },
  {
   "cell_type": "markdown",
   "metadata": {},
   "source": [
    "- autocrop 명령어를 사용해서 자동으로 얼굴을 잘라내고 직접 결과 사진을 확인해야 함\n",
    "    - 얼굴인식이 되지 않아 사진이 잘리지 않거나 얼굴이 아닌 부분이 잘리는 경우가 있음\n",
    "- 얼굴 crop이 잘 되지 않은 사진은 다음과 같은 조치를 취해줌\n",
    "    - 전신이 들어가고 배경이 너무 현란한 사진은 얼굴 위주로 사진을 적당히 잘라준다\n",
    "    - 정면 얼굴이더라도 기울어져있는 얼굴은 인식이 잘 되지 않으므로 사진의 각도를 조절해준다\n",
    "    - 수정된 사진으로 다시 autocrop을 실시한다"
   ]
  },
  {
   "cell_type": "markdown",
   "metadata": {},
   "source": [
    "### 3.1 SM 여자 아이돌 사진 얼굴 자르기"
   ]
  },
  {
   "cell_type": "markdown",
   "metadata": {},
   "source": [
    "#### 1) \"SM_여/개인\" 디렉토리의 리스트를 받는다 (glob library 이용) "
   ]
  },
  {
   "cell_type": "code",
   "execution_count": 24,
   "metadata": {},
   "outputs": [
    {
     "data": {
      "text/plain": [
       "['./downloads/SM_여/선데이',\n",
       " './downloads/SM_여/티파니',\n",
       " './downloads/SM_여/상미린아',\n",
       " './downloads/SM_여/효연',\n",
       " './downloads/SM_여/유진',\n",
       " './downloads/SM_여/태연',\n",
       " './downloads/SM_여/윤아',\n",
       " './downloads/SM_여/설리',\n",
       " './downloads/SM_여/루나',\n",
       " './downloads/SM_여/제시카',\n",
       " './downloads/SM_여/웬디',\n",
       " './downloads/SM_여/다나',\n",
       " './downloads/SM_여/유리',\n",
       " './downloads/SM_여/슬기',\n",
       " './downloads/SM_여/빅토리아',\n",
       " './downloads/SM_여/조이',\n",
       " './downloads/SM_여/바다',\n",
       " './downloads/SM_여/슈',\n",
       " './downloads/SM_여/서현',\n",
       " './downloads/SM_여/수영',\n",
       " './downloads/SM_여/아이린',\n",
       " './downloads/SM_여/스테파니',\n",
       " './downloads/SM_여/써니',\n",
       " './downloads/SM_여/예리',\n",
       " './downloads/SM_여/크리스탈',\n",
       " './downloads/SM_여/보아',\n",
       " './downloads/SM_여/엠버']"
      ]
     },
     "execution_count": 24,
     "metadata": {},
     "output_type": "execute_result"
    }
   ],
   "source": [
    "# dir_list = glob.glob('./downloads/*여/*')\n",
    "dir_list = glob.glob('./downloads/SM_여/*')\n",
    "dir_list"
   ]
  },
  {
   "cell_type": "markdown",
   "metadata": {},
   "source": [
    "#### 2) 개인마다 폴더의 사진에서 얼굴을 crop하고 crop폴더 내에 개인 폴더에 저장"
   ]
  },
  {
   "cell_type": "code",
   "execution_count": 25,
   "metadata": {},
   "outputs": [
    {
     "name": "stderr",
     "output_type": "stream",
     "text": [
      "  0%|          | 0/27 [00:00<?, ?it/s]"
     ]
    },
    {
     "name": "stdout",
     "output_type": "stream",
     "text": [
      "Processing images in folder: /Users/hyeshinoh/Google 드라이브/project_3대기획사_분류/downloads/SM_여/선데이\n",
      " 12 files have been cropped\n"
     ]
    },
    {
     "name": "stderr",
     "output_type": "stream",
     "text": [
      "  4%|▎         | 1/27 [00:00<00:22,  1.14it/s]"
     ]
    },
    {
     "name": "stdout",
     "output_type": "stream",
     "text": [
      "Processing images in folder: /Users/hyeshinoh/Google 드라이브/project_3대기획사_분류/downloads/SM_여/티파니\n",
      " 43 files have been cropped\n"
     ]
    },
    {
     "name": "stderr",
     "output_type": "stream",
     "text": [
      "  7%|▋         | 2/27 [00:03<00:42,  1.69s/it]"
     ]
    },
    {
     "name": "stdout",
     "output_type": "stream",
     "text": [
      "Processing images in folder: /Users/hyeshinoh/Google 드라이브/project_3대기획사_분류/downloads/SM_여/상미린아\n",
      "No faces can be detected in 19. %b9%ab%c1%a6-21_%ba%b9%bb%e7_pinky840.jpg.\n",
      " 13 files have been cropped\n"
     ]
    },
    {
     "name": "stderr",
     "output_type": "stream",
     "text": [
      " 11%|█         | 3/27 [00:04<00:34,  1.45s/it]"
     ]
    },
    {
     "name": "stdout",
     "output_type": "stream",
     "text": [
      "Processing images in folder: /Users/hyeshinoh/Google 드라이브/project_3대기획사_분류/downloads/SM_여/효연\n",
      " 33 files have been cropped\n"
     ]
    },
    {
     "name": "stderr",
     "output_type": "stream",
     "text": [
      " 15%|█▍        | 4/27 [00:06<00:36,  1.59s/it]"
     ]
    },
    {
     "name": "stdout",
     "output_type": "stream",
     "text": [
      "Processing images in folder: /Users/hyeshinoh/Google 드라이브/project_3대기획사_분류/downloads/SM_여/유진\n",
      " 20 files have been cropped\n"
     ]
    },
    {
     "name": "stderr",
     "output_type": "stream",
     "text": [
      " 19%|█▊        | 5/27 [00:07<00:33,  1.54s/it]"
     ]
    },
    {
     "name": "stdout",
     "output_type": "stream",
     "text": [
      "Processing images in folder: /Users/hyeshinoh/Google 드라이브/project_3대기획사_분류/downloads/SM_여/태연\n",
      "No faces can be detected in 83. 1490415600_1223883.jpg.\n",
      "No faces can be detected in 86. image_5120218401484996211161.jpg.\n",
      " 51 files have been cropped\n"
     ]
    },
    {
     "name": "stderr",
     "output_type": "stream",
     "text": [
      " 22%|██▏       | 6/27 [00:11<00:38,  1.84s/it]"
     ]
    },
    {
     "name": "stdout",
     "output_type": "stream",
     "text": [
      "Processing images in folder: /Users/hyeshinoh/Google 드라이브/project_3대기획사_분류/downloads/SM_여/윤아\n",
      " 67 files have been cropped\n"
     ]
    },
    {
     "name": "stderr",
     "output_type": "stream",
     "text": [
      " 26%|██▌       | 7/27 [00:14<00:42,  2.11s/it]"
     ]
    },
    {
     "name": "stdout",
     "output_type": "stream",
     "text": [
      "Processing images in folder: /Users/hyeshinoh/Google 드라이브/project_3대기획사_분류/downloads/SM_여/설리\n",
      " 31 files have been cropped\n"
     ]
    },
    {
     "name": "stderr",
     "output_type": "stream",
     "text": [
      " 30%|██▉       | 8/27 [00:16<00:39,  2.10s/it]"
     ]
    },
    {
     "name": "stdout",
     "output_type": "stream",
     "text": [
      "Processing images in folder: /Users/hyeshinoh/Google 드라이브/project_3대기획사_분류/downloads/SM_여/루나\n",
      " 34 files have been cropped\n"
     ]
    },
    {
     "name": "stderr",
     "output_type": "stream",
     "text": [
      " 33%|███▎      | 9/27 [00:18<00:37,  2.11s/it]"
     ]
    },
    {
     "name": "stdout",
     "output_type": "stream",
     "text": [
      "Processing images in folder: /Users/hyeshinoh/Google 드라이브/project_3대기획사_분류/downloads/SM_여/제시카\n",
      " 45 files have been cropped\n"
     ]
    },
    {
     "name": "stderr",
     "output_type": "stream",
     "text": [
      " 37%|███▋      | 10/27 [00:21<00:37,  2.20s/it]"
     ]
    },
    {
     "name": "stdout",
     "output_type": "stream",
     "text": [
      "Processing images in folder: /Users/hyeshinoh/Google 드라이브/project_3대기획사_분류/downloads/SM_여/웬디\n",
      "No faces can be detected in 47. i16395693941.jpg.\n",
      "libpng warning: iCCP: known incorrect sRGB profile\n",
      " 29 files have been cropped\n"
     ]
    },
    {
     "name": "stderr",
     "output_type": "stream",
     "text": [
      " 41%|████      | 11/27 [00:24<00:35,  2.21s/it]"
     ]
    },
    {
     "name": "stdout",
     "output_type": "stream",
     "text": [
      "Processing images in folder: /Users/hyeshinoh/Google 드라이브/project_3대기획사_분류/downloads/SM_여/다나\n",
      " 36 files have been cropped\n"
     ]
    },
    {
     "name": "stderr",
     "output_type": "stream",
     "text": [
      " 44%|████▍     | 12/27 [00:26<00:33,  2.23s/it]"
     ]
    },
    {
     "name": "stdout",
     "output_type": "stream",
     "text": [
      "Processing images in folder: /Users/hyeshinoh/Google 드라이브/project_3대기획사_분류/downloads/SM_여/유리\n",
      " 37 files have been cropped\n"
     ]
    },
    {
     "name": "stderr",
     "output_type": "stream",
     "text": [
      " 48%|████▊     | 13/27 [00:28<00:31,  2.22s/it]"
     ]
    },
    {
     "name": "stdout",
     "output_type": "stream",
     "text": [
      "Processing images in folder: /Users/hyeshinoh/Google 드라이브/project_3대기획사_분류/downloads/SM_여/슬기\n",
      " 43 files have been cropped\n"
     ]
    },
    {
     "name": "stderr",
     "output_type": "stream",
     "text": [
      " 52%|█████▏    | 14/27 [00:32<00:29,  2.29s/it]"
     ]
    },
    {
     "name": "stdout",
     "output_type": "stream",
     "text": [
      "Processing images in folder: /Users/hyeshinoh/Google 드라이브/project_3대기획사_분류/downloads/SM_여/빅토리아\n",
      " 21 files have been cropped\n"
     ]
    },
    {
     "name": "stderr",
     "output_type": "stream",
     "text": [
      " 56%|█████▌    | 15/27 [00:33<00:26,  2.24s/it]"
     ]
    },
    {
     "name": "stdout",
     "output_type": "stream",
     "text": [
      "Processing images in folder: /Users/hyeshinoh/Google 드라이브/project_3대기획사_분류/downloads/SM_여/조이\n",
      "No faces can be detected in 39. 2017021811202747988-540x314.jpg.\n",
      " 44 files have been cropped\n"
     ]
    },
    {
     "name": "stderr",
     "output_type": "stream",
     "text": [
      " 59%|█████▉    | 16/27 [00:36<00:25,  2.29s/it]"
     ]
    },
    {
     "name": "stdout",
     "output_type": "stream",
     "text": [
      "Processing images in folder: /Users/hyeshinoh/Google 드라이브/project_3대기획사_분류/downloads/SM_여/바다\n",
      " 23 files have been cropped\n"
     ]
    },
    {
     "name": "stderr",
     "output_type": "stream",
     "text": [
      " 63%|██████▎   | 17/27 [00:38<00:22,  2.24s/it]"
     ]
    },
    {
     "name": "stdout",
     "output_type": "stream",
     "text": [
      "Processing images in folder: /Users/hyeshinoh/Google 드라이브/project_3대기획사_분류/downloads/SM_여/슈\n",
      " 11 files have been cropped\n"
     ]
    },
    {
     "name": "stderr",
     "output_type": "stream",
     "text": [
      " 67%|██████▋   | 18/27 [00:38<00:19,  2.16s/it]"
     ]
    },
    {
     "name": "stdout",
     "output_type": "stream",
     "text": [
      "Processing images in folder: /Users/hyeshinoh/Google 드라이브/project_3대기획사_분류/downloads/SM_여/서현\n",
      " 43 files have been cropped\n"
     ]
    },
    {
     "name": "stderr",
     "output_type": "stream",
     "text": [
      " 70%|███████   | 19/27 [00:41<00:17,  2.20s/it]"
     ]
    },
    {
     "name": "stdout",
     "output_type": "stream",
     "text": [
      "Processing images in folder: /Users/hyeshinoh/Google 드라이브/project_3대기획사_분류/downloads/SM_여/수영\n",
      "No faces can be detected in 53. 20150701000012_0.jpg.\n",
      " 22 files have been cropped\n"
     ]
    },
    {
     "name": "stderr",
     "output_type": "stream",
     "text": [
      " 74%|███████▍  | 20/27 [00:43<00:15,  2.16s/it]"
     ]
    },
    {
     "name": "stdout",
     "output_type": "stream",
     "text": [
      "Processing images in folder: /Users/hyeshinoh/Google 드라이브/project_3대기획사_분류/downloads/SM_여/아이린\n",
      " 48 files have been cropped\n"
     ]
    },
    {
     "name": "stderr",
     "output_type": "stream",
     "text": [
      " 78%|███████▊  | 21/27 [00:46<00:13,  2.21s/it]"
     ]
    },
    {
     "name": "stdout",
     "output_type": "stream",
     "text": [
      "Processing images in folder: /Users/hyeshinoh/Google 드라이브/project_3대기획사_분류/downloads/SM_여/스테파니\n",
      " 15 files have been cropped\n"
     ]
    },
    {
     "name": "stderr",
     "output_type": "stream",
     "text": [
      " 81%|████████▏ | 22/27 [00:47<00:10,  2.16s/it]"
     ]
    },
    {
     "name": "stdout",
     "output_type": "stream",
     "text": [
      "Processing images in folder: /Users/hyeshinoh/Google 드라이브/project_3대기획사_분류/downloads/SM_여/써니\n",
      "No faces can be detected in 67. 126783_126404_158.jpg.\n",
      " 37 files have been cropped\n"
     ]
    },
    {
     "name": "stderr",
     "output_type": "stream",
     "text": [
      " 85%|████████▌ | 23/27 [00:50<00:08,  2.18s/it]"
     ]
    },
    {
     "name": "stdout",
     "output_type": "stream",
     "text": [
      "Processing images in folder: /Users/hyeshinoh/Google 드라이브/project_3대기획사_분류/downloads/SM_여/예리\n",
      " 33 files have been cropped\n"
     ]
    },
    {
     "name": "stderr",
     "output_type": "stream",
     "text": [
      " 89%|████████▉ | 24/27 [00:52<00:06,  2.19s/it]"
     ]
    },
    {
     "name": "stdout",
     "output_type": "stream",
     "text": [
      "Processing images in folder: /Users/hyeshinoh/Google 드라이브/project_3대기획사_분류/downloads/SM_여/크리스탈\n",
      " 35 files have been cropped\n"
     ]
    },
    {
     "name": "stderr",
     "output_type": "stream",
     "text": [
      " 93%|█████████▎| 25/27 [00:54<00:04,  2.20s/it]"
     ]
    },
    {
     "name": "stdout",
     "output_type": "stream",
     "text": [
      "Processing images in folder: /Users/hyeshinoh/Google 드라이브/project_3대기획사_분류/downloads/SM_여/보아\n",
      " 36 files have been cropped\n"
     ]
    },
    {
     "name": "stderr",
     "output_type": "stream",
     "text": [
      " 96%|█████████▋| 26/27 [00:56<00:02,  2.19s/it]"
     ]
    },
    {
     "name": "stdout",
     "output_type": "stream",
     "text": [
      "Processing images in folder: /Users/hyeshinoh/Google 드라이브/project_3대기획사_분류/downloads/SM_여/엠버\n",
      " 17 files have been cropped\n"
     ]
    },
    {
     "name": "stderr",
     "output_type": "stream",
     "text": [
      "100%|██████████| 27/27 [00:58<00:00,  2.15s/it]\n"
     ]
    }
   ],
   "source": [
    "for dir_name in tqdm(dir_list):\n",
    "    out_dir_name = dir_name.replace('./downloads/', '')\n",
    "    #!eval \"echo {out_dir_name}\"\n",
    "    !eval \"autocrop -i {dir_name} -o crop/{out_dir_name} -w 96 -H 96 --facePercent 80\""
   ]
  },
  {
   "cell_type": "markdown",
   "metadata": {},
   "source": [
    "### 3.2 JYP 여자 아이돌 사진 얼굴 자르기"
   ]
  },
  {
   "cell_type": "markdown",
   "metadata": {},
   "source": [
    "#### 1) \"JYP_여/개인\" 디렉토리의 리스트를 받는다 (glob library 이용) "
   ]
  },
  {
   "cell_type": "code",
   "execution_count": 3,
   "metadata": {},
   "outputs": [
    {
     "data": {
      "text/plain": [
       "['./downloads/JYP_여/현아',\n",
       " './downloads/JYP_여/채영',\n",
       " './downloads/JYP_여/선예',\n",
       " './downloads/JYP_여/정연',\n",
       " './downloads/JYP_여/혜림',\n",
       " './downloads/JYP_여/사나',\n",
       " './downloads/JYP_여/선미',\n",
       " './downloads/JYP_여/민',\n",
       " './downloads/JYP_여/예은',\n",
       " './downloads/JYP_여/소희',\n",
       " './downloads/JYP_여/페이',\n",
       " './downloads/JYP_여/다현',\n",
       " './downloads/JYP_여/수지',\n",
       " './downloads/JYP_여/유빈',\n",
       " './downloads/JYP_여/쯔위',\n",
       " './downloads/JYP_여/나연',\n",
       " './downloads/JYP_여/전소미',\n",
       " './downloads/JYP_여/모모',\n",
       " './downloads/JYP_여/지아',\n",
       " './downloads/JYP_여/미나',\n",
       " './downloads/JYP_여/지효']"
      ]
     },
     "execution_count": 3,
     "metadata": {},
     "output_type": "execute_result"
    }
   ],
   "source": [
    "# dir_list = glob.glob('./downloads/*여/*')\n",
    "dir_list = glob.glob('./downloads/JYP_여/*')\n",
    "dir_list"
   ]
  },
  {
   "cell_type": "markdown",
   "metadata": {},
   "source": [
    "#### 2) 개인마다 폴더의 사진에서 얼굴을 crop하고 crop폴더 내에 개인 폴더에 저장"
   ]
  },
  {
   "cell_type": "code",
   "execution_count": 8,
   "metadata": {},
   "outputs": [
    {
     "name": "stderr",
     "output_type": "stream",
     "text": [
      "  0%|          | 0/21 [00:00<?, ?it/s]"
     ]
    },
    {
     "name": "stdout",
     "output_type": "stream",
     "text": [
      "Processing images in folder: /Users/hyeshinoh/Google 드라이브/project_3대기획사_분류/downloads/JYP_여/현아\n",
      " 40 files have been cropped\n"
     ]
    },
    {
     "name": "stderr",
     "output_type": "stream",
     "text": [
      "  5%|▍         | 1/21 [00:01<00:38,  1.93s/it]"
     ]
    },
    {
     "name": "stdout",
     "output_type": "stream",
     "text": [
      "Processing images in folder: /Users/hyeshinoh/Google 드라이브/project_3대기획사_분류/downloads/JYP_여/채영\n",
      " 48 files have been cropped\n"
     ]
    },
    {
     "name": "stderr",
     "output_type": "stream",
     "text": [
      " 10%|▉         | 2/21 [00:05<00:47,  2.52s/it]"
     ]
    },
    {
     "name": "stdout",
     "output_type": "stream",
     "text": [
      "Processing images in folder: /Users/hyeshinoh/Google 드라이브/project_3대기획사_분류/downloads/JYP_여/선예\n",
      " 28 files have been cropped\n"
     ]
    },
    {
     "name": "stderr",
     "output_type": "stream",
     "text": [
      " 14%|█▍        | 3/21 [00:06<00:40,  2.24s/it]"
     ]
    },
    {
     "name": "stdout",
     "output_type": "stream",
     "text": [
      "Processing images in folder: /Users/hyeshinoh/Google 드라이브/project_3대기획사_분류/downloads/JYP_여/정연\n",
      "No faces can be detected in 68. 106773_130260_4537.jpg.\n",
      " 36 files have been cropped\n"
     ]
    },
    {
     "name": "stderr",
     "output_type": "stream",
     "text": [
      " 19%|█▉        | 4/21 [00:09<00:38,  2.29s/it]"
     ]
    },
    {
     "name": "stdout",
     "output_type": "stream",
     "text": [
      "Processing images in folder: /Users/hyeshinoh/Google 드라이브/project_3대기획사_분류/downloads/JYP_여/혜림\n",
      " 48 files have been cropped\n"
     ]
    },
    {
     "name": "stderr",
     "output_type": "stream",
     "text": [
      " 24%|██▍       | 5/21 [00:12<00:39,  2.46s/it]"
     ]
    },
    {
     "name": "stdout",
     "output_type": "stream",
     "text": [
      "Processing images in folder: /Users/hyeshinoh/Google 드라이브/project_3대기획사_분류/downloads/JYP_여/사나\n",
      " 30 files have been cropped\n"
     ]
    },
    {
     "name": "stderr",
     "output_type": "stream",
     "text": [
      " 29%|██▊       | 6/21 [00:14<00:35,  2.40s/it]"
     ]
    },
    {
     "name": "stdout",
     "output_type": "stream",
     "text": [
      "Processing images in folder: /Users/hyeshinoh/Google 드라이브/project_3대기획사_분류/downloads/JYP_여/선미\n",
      " 43 files have been cropped\n"
     ]
    },
    {
     "name": "stderr",
     "output_type": "stream",
     "text": [
      " 33%|███▎      | 7/21 [00:17<00:34,  2.43s/it]"
     ]
    },
    {
     "name": "stdout",
     "output_type": "stream",
     "text": [
      "Processing images in folder: /Users/hyeshinoh/Google 드라이브/project_3대기획사_분류/downloads/JYP_여/민\n",
      " 14 files have been cropped\n"
     ]
    },
    {
     "name": "stderr",
     "output_type": "stream",
     "text": [
      " 38%|███▊      | 8/21 [00:18<00:29,  2.27s/it]"
     ]
    },
    {
     "name": "stdout",
     "output_type": "stream",
     "text": [
      "Processing images in folder: /Users/hyeshinoh/Google 드라이브/project_3대기획사_분류/downloads/JYP_여/예은\n",
      " 28 files have been cropped\n"
     ]
    },
    {
     "name": "stderr",
     "output_type": "stream",
     "text": [
      " 43%|████▎     | 9/21 [00:19<00:26,  2.22s/it]"
     ]
    },
    {
     "name": "stdout",
     "output_type": "stream",
     "text": [
      "Processing images in folder: /Users/hyeshinoh/Google 드라이브/project_3대기획사_분류/downloads/JYP_여/소희\n",
      "No faces can be detected in 14. a1cda27761354ef5a4306a6eb6b0fb33.jpg.jpg.\n",
      " 34 files have been cropped\n"
     ]
    },
    {
     "name": "stderr",
     "output_type": "stream",
     "text": [
      " 48%|████▊     | 10/21 [00:22<00:24,  2.22s/it]"
     ]
    },
    {
     "name": "stdout",
     "output_type": "stream",
     "text": [
      "Processing images in folder: /Users/hyeshinoh/Google 드라이브/project_3대기획사_분류/downloads/JYP_여/페이\n",
      " 32 files have been cropped\n"
     ]
    },
    {
     "name": "stderr",
     "output_type": "stream",
     "text": [
      " 52%|█████▏    | 11/21 [00:24<00:21,  2.19s/it]"
     ]
    },
    {
     "name": "stdout",
     "output_type": "stream",
     "text": [
      "Processing images in folder: /Users/hyeshinoh/Google 드라이브/project_3대기획사_분류/downloads/JYP_여/다현\n",
      " 44 files have been cropped\n"
     ]
    },
    {
     "name": "stderr",
     "output_type": "stream",
     "text": [
      " 57%|█████▋    | 12/21 [00:26<00:20,  2.24s/it]"
     ]
    },
    {
     "name": "stdout",
     "output_type": "stream",
     "text": [
      "Processing images in folder: /Users/hyeshinoh/Google 드라이브/project_3대기획사_분류/downloads/JYP_여/수지\n",
      " 49 files have been cropped\n"
     ]
    },
    {
     "name": "stderr",
     "output_type": "stream",
     "text": [
      " 62%|██████▏   | 13/21 [00:29<00:18,  2.30s/it]"
     ]
    },
    {
     "name": "stdout",
     "output_type": "stream",
     "text": [
      "Processing images in folder: /Users/hyeshinoh/Google 드라이브/project_3대기획사_분류/downloads/JYP_여/유빈\n",
      " 31 files have been cropped\n"
     ]
    },
    {
     "name": "stderr",
     "output_type": "stream",
     "text": [
      " 67%|██████▋   | 14/21 [00:31<00:15,  2.27s/it]"
     ]
    },
    {
     "name": "stdout",
     "output_type": "stream",
     "text": [
      "Processing images in folder: /Users/hyeshinoh/Google 드라이브/project_3대기획사_분류/downloads/JYP_여/쯔위\n",
      " 53 files have been cropped\n"
     ]
    },
    {
     "name": "stderr",
     "output_type": "stream",
     "text": [
      " 71%|███████▏  | 15/21 [00:34<00:13,  2.33s/it]"
     ]
    },
    {
     "name": "stdout",
     "output_type": "stream",
     "text": [
      "Processing images in folder: /Users/hyeshinoh/Google 드라이브/project_3대기획사_분류/downloads/JYP_여/나연\n",
      " 38 files have been cropped\n"
     ]
    },
    {
     "name": "stderr",
     "output_type": "stream",
     "text": [
      " 76%|███████▌  | 16/21 [00:37<00:11,  2.34s/it]"
     ]
    },
    {
     "name": "stdout",
     "output_type": "stream",
     "text": [
      "Processing images in folder: /Users/hyeshinoh/Google 드라이브/project_3대기획사_분류/downloads/JYP_여/전소미\n",
      " 29 files have been cropped\n"
     ]
    },
    {
     "name": "stderr",
     "output_type": "stream",
     "text": [
      " 81%|████████  | 17/21 [00:39<00:09,  2.34s/it]"
     ]
    },
    {
     "name": "stdout",
     "output_type": "stream",
     "text": [
      "Processing images in folder: /Users/hyeshinoh/Google 드라이브/project_3대기획사_분류/downloads/JYP_여/모모\n",
      " 26 files have been cropped\n"
     ]
    },
    {
     "name": "stderr",
     "output_type": "stream",
     "text": [
      " 86%|████████▌ | 18/21 [00:41<00:06,  2.32s/it]"
     ]
    },
    {
     "name": "stdout",
     "output_type": "stream",
     "text": [
      "Processing images in folder: /Users/hyeshinoh/Google 드라이브/project_3대기획사_분류/downloads/JYP_여/지아\n",
      " 17 files have been cropped\n"
     ]
    },
    {
     "name": "stderr",
     "output_type": "stream",
     "text": [
      " 90%|█████████ | 19/21 [00:42<00:04,  2.26s/it]"
     ]
    },
    {
     "name": "stdout",
     "output_type": "stream",
     "text": [
      "Processing images in folder: /Users/hyeshinoh/Google 드라이브/project_3대기획사_분류/downloads/JYP_여/미나\n",
      " 26 files have been cropped\n"
     ]
    },
    {
     "name": "stderr",
     "output_type": "stream",
     "text": [
      " 95%|█████████▌| 20/21 [00:44<00:02,  2.22s/it]"
     ]
    },
    {
     "name": "stdout",
     "output_type": "stream",
     "text": [
      "Processing images in folder: /Users/hyeshinoh/Google 드라이브/project_3대기획사_분류/downloads/JYP_여/지효\n",
      " 41 files have been cropped\n"
     ]
    },
    {
     "name": "stderr",
     "output_type": "stream",
     "text": [
      "100%|██████████| 21/21 [00:47<00:00,  2.25s/it]\n"
     ]
    }
   ],
   "source": [
    "for dir_name in tqdm(dir_list):\n",
    "    out_dir_name = dir_name.replace('./downloads/', '')\n",
    "    #!eval \"echo {out_dir_name}\"\n",
    "    !eval \"autocrop -i {dir_name} -o crop/{out_dir_name} -w 96 -H 96 --facePercent 80\""
   ]
  },
  {
   "cell_type": "markdown",
   "metadata": {},
   "source": [
    "### 3.3 YG 여자 아이돌 사진 얼굴 자르기"
   ]
  },
  {
   "cell_type": "markdown",
   "metadata": {},
   "source": [
    "#### 1) \"YG_여/개인\" 디렉토리의 리스트를 받는다 (glob library 이용) "
   ]
  },
  {
   "cell_type": "code",
   "execution_count": 21,
   "metadata": {},
   "outputs": [
    {
     "data": {
      "text/plain": [
       "['./downloads/YG_여/박봄',\n",
       " './downloads/YG_여/지수',\n",
       " './downloads/YG_여/로제',\n",
       " './downloads/YG_여/제니',\n",
       " './downloads/YG_여/씨엘',\n",
       " './downloads/YG_여/산다라박',\n",
       " './downloads/YG_여/공민지',\n",
       " './downloads/YG_여/리사']"
      ]
     },
     "execution_count": 21,
     "metadata": {},
     "output_type": "execute_result"
    }
   ],
   "source": [
    "# dir_list = glob.glob('./downloads/*여/*')\n",
    "dir_list = glob.glob('./downloads/YG_여/*')\n",
    "dir_list"
   ]
  },
  {
   "cell_type": "markdown",
   "metadata": {},
   "source": [
    "#### 2) 개인마다 폴더의 사진에서 얼굴을 crop하고 crop폴더 내에 개인 폴더에 저장"
   ]
  },
  {
   "cell_type": "code",
   "execution_count": 22,
   "metadata": {},
   "outputs": [
    {
     "name": "stderr",
     "output_type": "stream",
     "text": [
      "  0%|          | 0/8 [00:00<?, ?it/s]"
     ]
    },
    {
     "name": "stdout",
     "output_type": "stream",
     "text": [
      "Processing images in folder: /Users/hyeshinoh/Google 드라이브/project_3대기획사_분류/downloads/YG_여/박봄\n",
      " 39 files have been cropped\n"
     ]
    },
    {
     "name": "stderr",
     "output_type": "stream",
     "text": [
      " 12%|█▎        | 1/8 [00:02<00:15,  2.22s/it]"
     ]
    },
    {
     "name": "stdout",
     "output_type": "stream",
     "text": [
      "Processing images in folder: /Users/hyeshinoh/Google 드라이브/project_3대기획사_분류/downloads/YG_여/지수\n",
      " 39 files have been cropped\n"
     ]
    },
    {
     "name": "stderr",
     "output_type": "stream",
     "text": [
      " 25%|██▌       | 2/8 [00:04<00:14,  2.37s/it]"
     ]
    },
    {
     "name": "stdout",
     "output_type": "stream",
     "text": [
      "Processing images in folder: /Users/hyeshinoh/Google 드라이브/project_3대기획사_분류/downloads/YG_여/로제\n",
      " 40 files have been cropped\n"
     ]
    },
    {
     "name": "stderr",
     "output_type": "stream",
     "text": [
      " 38%|███▊      | 3/8 [00:06<00:11,  2.32s/it]"
     ]
    },
    {
     "name": "stdout",
     "output_type": "stream",
     "text": [
      "Processing images in folder: /Users/hyeshinoh/Google 드라이브/project_3대기획사_분류/downloads/YG_여/제니\n",
      " 39 files have been cropped\n"
     ]
    },
    {
     "name": "stderr",
     "output_type": "stream",
     "text": [
      " 50%|█████     | 4/8 [00:09<00:09,  2.27s/it]"
     ]
    },
    {
     "name": "stdout",
     "output_type": "stream",
     "text": [
      "Processing images in folder: /Users/hyeshinoh/Google 드라이브/project_3대기획사_분류/downloads/YG_여/씨엘\n",
      "No faces can be detected in 90. fb39427f94986978aefc521d639c4788.jpg.\n",
      " 41 files have been cropped\n"
     ]
    },
    {
     "name": "stderr",
     "output_type": "stream",
     "text": [
      " 62%|██████▎   | 5/8 [00:11<00:06,  2.30s/it]"
     ]
    },
    {
     "name": "stdout",
     "output_type": "stream",
     "text": [
      "Processing images in folder: /Users/hyeshinoh/Google 드라이브/project_3대기획사_분류/downloads/YG_여/산다라박\n",
      " 50 files have been cropped\n"
     ]
    },
    {
     "name": "stderr",
     "output_type": "stream",
     "text": [
      " 75%|███████▌  | 6/8 [00:14<00:04,  2.41s/it]"
     ]
    },
    {
     "name": "stdout",
     "output_type": "stream",
     "text": [
      "Processing images in folder: /Users/hyeshinoh/Google 드라이브/project_3대기획사_분류/downloads/YG_여/공민지\n",
      "No faces can be detected in 98. 25385_29621_2926.jpg.\n",
      " 39 files have been cropped\n"
     ]
    },
    {
     "name": "stderr",
     "output_type": "stream",
     "text": [
      " 88%|████████▊ | 7/8 [00:16<00:02,  2.40s/it]"
     ]
    },
    {
     "name": "stdout",
     "output_type": "stream",
     "text": [
      "Processing images in folder: /Users/hyeshinoh/Google 드라이브/project_3대기획사_분류/downloads/YG_여/리사\n",
      "No faces can be detected in 61. c-vtod-uqaaylsb.jpg.\n",
      " 35 files have been cropped\n"
     ]
    },
    {
     "name": "stderr",
     "output_type": "stream",
     "text": [
      "100%|██████████| 8/8 [00:18<00:00,  2.32s/it]\n"
     ]
    }
   ],
   "source": [
    "for dir_name in tqdm(dir_list):\n",
    "    out_dir_name = dir_name.replace('./downloads/', '')\n",
    "    #!eval \"echo {out_dir_name}\"\n",
    "    !eval \"autocrop -i {dir_name} -o crop/{out_dir_name} -w 96 -H 96 --facePercent 80\""
   ]
  }
 ],
 "metadata": {
  "kernelspec": {
   "display_name": "Python 3",
   "language": "python",
   "name": "python3"
  },
  "language_info": {
   "codemirror_mode": {
    "name": "ipython",
    "version": 3
   },
   "file_extension": ".py",
   "mimetype": "text/x-python",
   "name": "python",
   "nbconvert_exporter": "python",
   "pygments_lexer": "ipython3",
   "version": "3.7.0"
  }
 },
 "nbformat": 4,
 "nbformat_minor": 2
}
