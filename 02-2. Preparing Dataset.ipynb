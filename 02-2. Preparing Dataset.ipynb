{
 "cells": [
  {
   "cell_type": "markdown",
   "metadata": {},
   "source": [
    "# 02.2 Train Data Set 만들기\n",
    "이미지 파일을 numpy array로 만들어 로컬 컴퓨터에 저장하기"
   ]
  },
  {
   "cell_type": "code",
   "execution_count": 17,
   "metadata": {},
   "outputs": [],
   "source": [
    "import warnings\n",
    "warnings.simplefilter('ignore')\n",
    "\n",
    "import os\n",
    "from tqdm import tqdm \n",
    "import glob\n",
    "import cv2"
   ]
  },
  {
   "cell_type": "code",
   "execution_count": 18,
   "metadata": {},
   "outputs": [],
   "source": [
    "def get_idol_list(company, gender):\n",
    "    df = pd.read_csv(\"{}.csv\".format(company), encoding='euc_kr')\n",
    "    names = df[df[\"성별\"]==gender][\"멤버\"].tolist()\n",
    "    names = [x.split(',') for x in names]\n",
    "    names = [item for sublist in names for item in sublist]\n",
    "    names = [x.strip() for x in names]\n",
    "    print(\"{} 소속 {}자 가수: {}명\".format(company.upper(), gender, len(names)))\n",
    "    return names"
   ]
  },
  {
   "cell_type": "code",
   "execution_count": 19,
   "metadata": {},
   "outputs": [],
   "source": [
    "train_data = []\n",
    "train_target = []"
   ]
  },
  {
   "cell_type": "code",
   "execution_count": 20,
   "metadata": {},
   "outputs": [],
   "source": [
    "def image_to_array(company, name_list):\n",
    "    for name in tqdm(name_list):\n",
    "        img_list = glob.glob('./crop/{}_여/{}/*'.format(company, name))\n",
    "        print(name, len(img_list))\n",
    "        for img in img_list:\n",
    "            imgfile = cv2.imread(str(img)) \n",
    "            train_data.append(imgfile)\n",
    "            train_target.append(company)"
   ]
  },
  {
   "cell_type": "code",
   "execution_count": 21,
   "metadata": {},
   "outputs": [
    {
     "name": "stderr",
     "output_type": "stream",
     "text": [
      " 37%|███▋      | 10/27 [00:00<00:00, 88.84it/s]"
     ]
    },
    {
     "name": "stdout",
     "output_type": "stream",
     "text": [
      "SM 소속 여자 가수: 27명\n",
      "바다 23\n",
      "유진 20\n",
      "슈 11\n",
      "보아 36\n",
      "상미린아 14\n",
      "다나 36\n",
      "지성선데이 12\n",
      "천무스테파니 15\n",
      "태연 52\n",
      "제시카 45\n",
      "써니 38\n",
      "효연 33\n",
      "유리 37\n",
      "윤아 67\n",
      "티파니 43\n",
      "수영 22\n"
     ]
    },
    {
     "name": "stderr",
     "output_type": "stream",
     "text": [
      "100%|██████████| 27/27 [00:00<00:00, 77.63it/s]"
     ]
    },
    {
     "name": "stdout",
     "output_type": "stream",
     "text": [
      "서현 43\n",
      "빅토리아 21\n",
      "엠버 17\n",
      "루나 34\n",
      "크리스탈 49\n",
      "설리 31\n",
      "아이린 48\n",
      "슬기 43\n",
      "웬디 30\n",
      "조이 45\n",
      "예리 33\n"
     ]
    },
    {
     "name": "stderr",
     "output_type": "stream",
     "text": [
      "\n"
     ]
    }
   ],
   "source": [
    "sm_w_names = get_idol_list('sm', '여')\n",
    "image_to_array('sm', sm_w_names)"
   ]
  },
  {
   "cell_type": "code",
   "execution_count": 22,
   "metadata": {},
   "outputs": [
    {
     "name": "stderr",
     "output_type": "stream",
     "text": [
      " 43%|████▎     | 9/21 [00:00<00:00, 89.96it/s]"
     ]
    },
    {
     "name": "stdout",
     "output_type": "stream",
     "text": [
      "JYP 소속 여자 가수: 21명\n",
      "선예 28\n",
      "예은 28\n",
      "소희 35\n",
      "선미 43\n",
      "현아 40\n",
      "유빈 31\n",
      "혜림 43\n",
      "수지 49\n",
      "민 14\n",
      "페이 32\n",
      "지아 17\n",
      "지효 41\n",
      "나연 38\n",
      "정연 37\n",
      "모모 26\n",
      "사나 30\n",
      "미나 26\n",
      "다현 44\n",
      "채영 48\n"
     ]
    },
    {
     "name": "stderr",
     "output_type": "stream",
     "text": [
      "100%|██████████| 21/21 [00:00<00:00, 93.26it/s]"
     ]
    },
    {
     "name": "stdout",
     "output_type": "stream",
     "text": [
      "쯔위 53\n",
      "전소미 29\n"
     ]
    },
    {
     "name": "stderr",
     "output_type": "stream",
     "text": [
      "\n"
     ]
    }
   ],
   "source": [
    "jyp_w_names = get_idol_list('jyp', '여')\n",
    "image_to_array('jyp', jyp_w_names)"
   ]
  },
  {
   "cell_type": "code",
   "execution_count": 23,
   "metadata": {},
   "outputs": [
    {
     "name": "stderr",
     "output_type": "stream",
     "text": [
      "100%|██████████| 8/8 [00:00<00:00, 75.97it/s]"
     ]
    },
    {
     "name": "stdout",
     "output_type": "stream",
     "text": [
      "YG 소속 여자 가수: 8명\n",
      "씨엘 42\n",
      "산다라박 50\n",
      "박봄 39\n",
      "공민지 40\n",
      "지수 37\n",
      "제니 39\n",
      "로제 40\n",
      "리사 36\n"
     ]
    },
    {
     "name": "stderr",
     "output_type": "stream",
     "text": [
      "\n"
     ]
    }
   ],
   "source": [
    "yg_w_names = get_idol_list('yg', '여')\n",
    "image_to_array('yg', yg_w_names)"
   ]
  },
  {
   "cell_type": "code",
   "execution_count": 24,
   "metadata": {},
   "outputs": [],
   "source": [
    "train_target = np.array(train_target)\n",
    "train_data = np.array(train_data)"
   ]
  },
  {
   "cell_type": "code",
   "execution_count": 25,
   "metadata": {},
   "outputs": [
    {
     "data": {
      "text/plain": [
       "(1953, 96, 96, 3)"
      ]
     },
     "execution_count": 25,
     "metadata": {},
     "output_type": "execute_result"
    },
    {
     "data": {
      "text/plain": [
       "(1953,)"
      ]
     },
     "execution_count": 25,
     "metadata": {},
     "output_type": "execute_result"
    }
   ],
   "source": [
    "train_data.shape\n",
    "train_target.shape"
   ]
  },
  {
   "cell_type": "code",
   "execution_count": 26,
   "metadata": {},
   "outputs": [
    {
     "data": {
      "text/plain": [
       "(96, 96, 3)"
      ]
     },
     "execution_count": 26,
     "metadata": {},
     "output_type": "execute_result"
    }
   ],
   "source": [
    "train_data[0].shape"
   ]
  },
  {
   "cell_type": "code",
   "execution_count": 27,
   "metadata": {},
   "outputs": [
    {
     "data": {
      "text/plain": [
       "array(['sm', 'sm', 'sm', ..., 'yg', 'yg', 'yg'], dtype='<U3')"
      ]
     },
     "execution_count": 27,
     "metadata": {},
     "output_type": "execute_result"
    }
   ],
   "source": [
    "train_target"
   ]
  },
  {
   "cell_type": "markdown",
   "metadata": {},
   "source": [
    "### npy 파일로 dataset 로컬에 저장하기"
   ]
  },
  {
   "cell_type": "code",
   "execution_count": 31,
   "metadata": {},
   "outputs": [],
   "source": [
    "np.save('train_data', train_data, allow_pickle=True, fix_imports=True)\n",
    "np.save('train_target', train_target, allow_pickle=True, fix_imports=True)"
   ]
  }
 ],
 "metadata": {
  "kernelspec": {
   "display_name": "Python 3",
   "language": "python",
   "name": "python3"
  },
  "language_info": {
   "codemirror_mode": {
    "name": "ipython",
    "version": 3
   },
   "file_extension": ".py",
   "mimetype": "text/x-python",
   "name": "python",
   "nbconvert_exporter": "python",
   "pygments_lexer": "ipython3",
   "version": "3.6.5"
  }
 },
 "nbformat": 4,
 "nbformat_minor": 2
}
